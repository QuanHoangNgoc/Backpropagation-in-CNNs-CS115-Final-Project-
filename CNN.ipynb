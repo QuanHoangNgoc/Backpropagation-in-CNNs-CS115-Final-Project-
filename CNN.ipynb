{
  "cells": [
    {
      "cell_type": "markdown",
      "metadata": {
        "id": "bL6OVmBvhJUP"
      },
      "source": [
        "# sprint0: Global"
      ]
    },
    {
      "cell_type": "code",
      "execution_count": 682,
      "metadata": {
        "id": "eCHUCnnOhJUS"
      },
      "outputs": [],
      "source": [
        "import numpy as np\n",
        "np.random.seed(42)"
      ]
    },
    {
      "cell_type": "code",
      "execution_count": 683,
      "metadata": {
        "id": "Lenc9DXvhJUV"
      },
      "outputs": [],
      "source": [
        "# libraries\n",
        "from collections import defaultdict\n",
        "import pandas as pd\n",
        "import matplotlib.pyplot as plt\n",
        "import tensorflow as tf\n",
        "from multiprocessing import Pool"
      ]
    },
    {
      "cell_type": "code",
      "execution_count": 684,
      "metadata": {
        "id": "CoWt9BLFhJUW"
      },
      "outputs": [],
      "source": [
        "# CONST\n",
        "RANDOM_STATE = 42"
      ]
    },
    {
      "cell_type": "code",
      "execution_count": 685,
      "metadata": {
        "id": "6TfAgz2phJUW"
      },
      "outputs": [],
      "source": [
        "# utils\n",
        "def fixRandomState(fixed_state):\n",
        "  np.random.seed(fixed_state)\n",
        "\n",
        "def exception(condition: bool, notification):\n",
        "  if(condition == False):\n",
        "    print(\"__exception__: \", notification)\n",
        "    assert(1 == 0)\n",
        "\n",
        "def verbose(flag: bool, verbose):\n",
        "  if(flag):\n",
        "    print(\"__verbose__: \", verbose)\n",
        "\n",
        "def note(note):\n",
        "  print(\"__note__: \", note)\n",
        "\n",
        "def hashNP(val: np) -> float:\n",
        "  return round(np.sqrt(np.sum(val**2)), 10), round(np.sum(val), 10)\n"
      ]
    },
    {
      "cell_type": "markdown",
      "metadata": {
        "id": "ecAXA5ZyhJUX"
      },
      "source": [
        "# sprint1: Layer class"
      ]
    },
    {
      "cell_type": "code",
      "source": [
        "# static attributies and methos\n",
        "AMPHA, INIT_LOC, INIT_STD = 1e-2, 1e2, 1e2\n",
        "def configAllLayers(ampha, init_loc, init_std):\n",
        "  AMPHA, INIT_LOC, INIT_STD = ampha, init_loc, init_std"
      ],
      "metadata": {
        "id": "94BfMhWtv24I"
      },
      "execution_count": 686,
      "outputs": []
    },
    {
      "cell_type": "markdown",
      "source": [
        "## Interface"
      ],
      "metadata": {
        "id": "Mp81pHZQheRo"
      }
    },
    {
      "cell_type": "code",
      "source": [
        "class LayerInterface:\n",
        "  def __init__(self) -> None:\n",
        "    self.parameters = np.array([])\n",
        "    self.input = np.array([])\n",
        "    self.loss_output = np.array([])\n",
        "\n",
        "  def set_parameters(self, val: np) -> None:\n",
        "    self.parameters = val.copy()\n",
        "  def set_input(self, val: np) -> None:\n",
        "    self.input = val.copy()\n",
        "  def set_loss_output(self, val: np) -> None:\n",
        "    self.loss_output = val.copy()\n",
        "\n",
        "  def getParameters(self) -> tuple:\n",
        "    return self.parameters.shape, hashNP(self.parameters)\n",
        "  def getInput(self) -> tuple:\n",
        "    return self.input.shape, hashNP(self.input)\n",
        "  def getLossOutput(self) -> tuple:\n",
        "    return self.loss_output.shape, hashNP(self.loss_output)\n",
        "\n",
        "  def transform(self, *argv):\n",
        "    pass\n",
        "  def cap(self, *argv):\n",
        "    pass\n",
        "  def back(self, *argv):\n",
        "    pass\n",
        "  def update(self, *argv):\n",
        "    pass\n",
        "\n",
        "  def init_method(self, size_parameters: tuple, fixed_state: int = -1) -> np:\n",
        "    if(fixed_state != -1):\n",
        "      fixRandomState(fixed_state)\n",
        "    return np.random.normal(loc = INIT_LOC, scale = INIT_STD, size = size_parameters)\n",
        "\n",
        "  def update_method(self, parameters: np, gradient: np) -> np:\n",
        "    return parameters - AMPHA * gradient"
      ],
      "metadata": {
        "id": "06dJc99tk0dh"
      },
      "execution_count": 687,
      "outputs": []
    },
    {
      "cell_type": "markdown",
      "source": [
        "## Padding"
      ],
      "metadata": {
        "id": "T7l98Bi5hhs_"
      }
    },
    {
      "cell_type": "code",
      "execution_count": 688,
      "metadata": {
        "id": "obHxEcowhJUY"
      },
      "outputs": [],
      "source": [
        "class Padding(LayerInterface):\n",
        "  def __init__(self, a: int, b: int, c: int, d: int) -> None:\n",
        "    super().__init__()\n",
        "    self.a, self.b, self.c, self.d = a, b, c, d\n",
        "\n",
        "  def transform(self, one_point: np) -> np:\n",
        "    self.set_input(one_point)\n",
        "    z = one_point.copy()\n",
        "    z = tf.convert_to_tensor(z, np.float64)\n",
        "    padding = tf.constant([[self.a, self.b], [self.c, self.d]])\n",
        "    z = tf.pad(z, padding, mode ='CONSTANT')\n",
        "    z = z.numpy()\n",
        "    return z\n",
        "\n",
        "  def back(self, one_output: np) -> np:\n",
        "    self.set_loss_output(one_output)\n",
        "    out = one_output.copy()\n",
        "    return out[self.a : out.shape[0] - self.b, self.c : out.shape[1] - self.d]\n"
      ]
    },
    {
      "cell_type": "markdown",
      "source": [
        "## Convolution"
      ],
      "metadata": {
        "id": "R5vAGEdKi0T8"
      }
    },
    {
      "cell_type": "code",
      "execution_count": 689,
      "metadata": {
        "id": "y7gRioORhJUZ"
      },
      "outputs": [],
      "source": [
        "class Convolution(LayerInterface):\n",
        "  def __init__(self, fixed_state = RANDOM_STATE, size: tuple = (1, 1)) -> None:\n",
        "    super().__init__()\n",
        "    self.fixed_state = fixed_state\n",
        "    self.size = size\n",
        "    self.filter = self.init_method(self.size, self.fixed_state)\n",
        "\n",
        "  def transform(self, one_point: np) -> np:\n",
        "    self.set_input(one_point)\n",
        "    z = self.conv_operator(one_point, self.filter)\n",
        "    return z\n",
        "\n",
        "  def cap(self, one_point: np) -> None:\n",
        "    self.one_point = one_point.copy()\n",
        "\n",
        "  def back(self, one_output: np) -> np:\n",
        "    self.set_loss_output(one_output)\n",
        "    dF = self.conv_operator(self.one_point, one_output)\n",
        "    out = Padding(self.size[0]-1, self.size[0]-1, self.size[1]-1, self.size[1]-1).transform(one_output)\n",
        "    dX = self.conv_operator(out, self.rotate_180(self.filter))\n",
        "    return dX, dF\n",
        "\n",
        "  def update(self, gradient: np) -> None:\n",
        "    self.filter = self.update_method(self.filter, gradient)\n",
        "    self.set_parameters(self.filter)\n",
        "\n",
        "  def conv_operator(self, X: np, F: np) -> np:\n",
        "    a, b = F.shape\n",
        "    u, v = X.shape[0] - a + 1, X.shape[1] - b + 1\n",
        "    z = np.zeros((u, v))\n",
        "    for i in range(u):\n",
        "      for j in range(v):\n",
        "        z[i, j] = np.sum(X[i : i + a, j : j + b] * F)\n",
        "    return z\n",
        "\n",
        "  def rotate_180(self, A: np) -> np:\n",
        "    return np.array([row[::-1] for row in A[::-1]])\n"
      ]
    },
    {
      "cell_type": "code",
      "source": [
        "class MultiConvolution(LayerInterface):\n",
        "  def __init__(self) -> None:\n",
        "    pass"
      ],
      "metadata": {
        "id": "WZuMX8-Mli6P"
      },
      "execution_count": 690,
      "outputs": []
    },
    {
      "cell_type": "markdown",
      "source": [
        "## Pooling"
      ],
      "metadata": {
        "id": "sEKggZtap8yl"
      }
    },
    {
      "cell_type": "code",
      "source": [
        "class Pooling(LayerInterface):\n",
        "  def __init__(self) -> None:\n",
        "    super().__init__()\n",
        "    pass\n",
        "\n",
        "  def transform(self, one_point: np, mode: str) -> np:\n",
        "    exception(one_point.shape[0] % self.size[0] == 0, \"Pooling > transform: size of pooling not valid {} {}\".format(one_point.shape, self.size))\n",
        "    exception(one_point.shape[1] % self.size[1] == 0, \"Pooling > transform: size of pooling not valid {} {}\".format(one_point.shape, self.size))\n",
        "\n",
        "    self.set_input(one_point)\n",
        "    z = np.zeros((one_point.shape[0] // self.size[0], one_point.shape[1] // self.size[1]))\n",
        "    for i in range(0, one_point.shape[0], self.size[0]):\n",
        "      for j in range(0, one_point.shape[1], self.size[1]):\n",
        "        if(mode == 'mean'):\n",
        "          z[i // self.size[0], j // self.size[1]] = np.mean(one_point[i : i + self.size[0], j : j + self.size[1]])\n",
        "        elif(mode == 'max'):\n",
        "          z[i // self.size[0], j // self.size[1]] = np.max(one_point[i : i + self.size[0], j : j + self.size[1]])\n",
        "    return z\n",
        "\n",
        "  def zoom(self, one_output: np) -> np:\n",
        "    zoom = np.zeros((one_output.shape[0] * self.size[0], one_output.shape[1] * self.size[1]))\n",
        "    for i in range(zoom.shape[0]):\n",
        "      for j in range(zoom.shape[1]):\n",
        "        zoom[i, j] = one_output[i // self.size[0], j // self.size[1]]\n",
        "    return zoom\n"
      ],
      "metadata": {
        "id": "F6eRsrom2fqF"
      },
      "execution_count": 691,
      "outputs": []
    },
    {
      "cell_type": "code",
      "source": [
        "class AveragePooling(Pooling):\n",
        "  def __init__(self, size: tuple = (1, 1)) -> None:\n",
        "    super().__init__()\n",
        "    self.size = size\n",
        "\n",
        "  def transform(self, one_point: np) -> np:\n",
        "    self.set_input(one_point)\n",
        "    return super().transform(one_point, 'mean')\n",
        "\n",
        "  def back(self, one_output: np) -> np:\n",
        "    self.set_loss_output(one_output)\n",
        "    return self.zoom(one_output) / (self.size[0] * self.size[1])\n"
      ],
      "metadata": {
        "id": "OQwXfetpmPMs"
      },
      "execution_count": 692,
      "outputs": []
    },
    {
      "cell_type": "code",
      "source": [
        "class MaxPooling(Pooling):\n",
        "  def __init__(self, size: tuple = (1, 1)) -> None:\n",
        "    super().__init__()\n",
        "    self.size = size\n",
        "\n",
        "  def transform(self, one_point: np) -> np:\n",
        "    self.set_input(one_point)\n",
        "    return super().transform(one_point, 'max')\n",
        "\n",
        "  def cap(self, one_point: np) -> np:\n",
        "    exception(one_point.shape[0] % self.size[0] == 0, \"Pooling > transform: size of pooling not valid {} {}\".format(one_point.shape, self.size))\n",
        "    exception(one_point.shape[1] % self.size[1] == 0, \"Pooling > transform: size of pooling not valid {} {}\".format(one_point.shape, self.size))\n",
        "\n",
        "    self.mask = np.zeros((one_point.shape[0], one_point.shape[1]))\n",
        "    for i in range(0, one_point.shape[0], self.size[0]):\n",
        "      for j in range(0, one_point.shape[1], self.size[1]):\n",
        "        li, lj = i, j\n",
        "        for k in range(i, i + self.size[0]):\n",
        "          for t in range(j, j + self.size[1]):\n",
        "            if(one_point[k][t] > one_point[li][lj]):\n",
        "              li, lj = k, t\n",
        "        self.mask[li][lj] = 1\n",
        "\n",
        "  def back(self, one_output: np) -> np:\n",
        "    self.set_loss_output(one_output)\n",
        "    return self.zoom(one_output) * self.mask\n"
      ],
      "metadata": {
        "id": "ip5lBZeZ1F8J"
      },
      "execution_count": 693,
      "outputs": []
    },
    {
      "cell_type": "markdown",
      "source": [
        "## Flatten"
      ],
      "metadata": {
        "id": "0_FhoYdu8DVf"
      }
    },
    {
      "cell_type": "code",
      "source": [
        "class Flatten(LayerInterface):\n",
        "  def __init__(self):\n",
        "    super().__init__()\n",
        "    pass\n",
        "\n",
        "  def transform(self, one_point: np) -> np:\n",
        "    self.set_input(one_point)\n",
        "    z = one_point.copy()\n",
        "    length = 1\n",
        "    for i in range(len(z.shape)):\n",
        "      length *= z.shape[i]\n",
        "    return z.reshape(length, 1)\n",
        "\n",
        "  def cap(self, one_point: np) -> None:\n",
        "    self.shape_one_point = one_point.shape\n",
        "\n",
        "  def back(self, one_output: np) -> np:\n",
        "    self.set_loss_output(one_output)\n",
        "    out = one_output.copy()\n",
        "    out = np.reshape(out, self.shape_one_point)\n",
        "    return out\n"
      ],
      "metadata": {
        "id": "ZWr9X9YlGC9G"
      },
      "execution_count": 694,
      "outputs": []
    },
    {
      "cell_type": "markdown",
      "source": [
        "## Fully Connected"
      ],
      "metadata": {
        "id": "rSG65FhwGDre"
      }
    },
    {
      "cell_type": "code",
      "source": [
        "class Dense(LayerInterface):\n",
        "  def __init__(self, fixed_state = RANDOM_STATE, size_output: int = 1) -> None:\n",
        "    super().__init__()\n",
        "    self.fixed_state = fixed_state\n",
        "    self.size_output = size_output\n",
        "    self.W = self.init_method((self.size_output, 1), self.fixed_state)\n",
        "\n",
        "  def check_init_shape(self, one_point: np) -> None:\n",
        "    if(self.W.shape != (self.size_output, one_point.shape[0] + 1)):\n",
        "      self.W = self.init_method((self.size_output, one_point.shape[0] + 1), self.fixed_state)\n",
        "\n",
        "  def transform(self, one_point: np) -> np:\n",
        "    self.set_input(one_point)\n",
        "    self.check_init_shape(one_point)\n",
        "    z = one_point.copy()\n",
        "    z =  np.append(z, np.array([[1]]), axis = 0) #$ append 1 at last\n",
        "    return np.matmul(self.W, z)\n",
        "\n",
        "  def cap(self, one_point: np) -> None:\n",
        "    self.check_init_shape(one_point)\n",
        "    z = one_point.copy()\n",
        "    self.append_one_point = np.append(z, np.array([[1]]), axis = 0)  #$ append 1 at last\n",
        "\n",
        "  def back(self, one_output: np) -> np:\n",
        "    self.set_loss_output(one_output)\n",
        "    out = one_output.copy()\n",
        "    dW = np.matmul(out, self.append_one_point.T)\n",
        "    dX = np.matmul(self.W.T, out)\n",
        "    return dX[:-1], dW\n",
        "\n",
        "  def update(self, gradient: np) -> np:\n",
        "    self.W = self.update_method(self.W, gradient)\n",
        "    self.set_parameters(self.W)"
      ],
      "metadata": {
        "id": "Yad43eMNb8D6"
      },
      "execution_count": 695,
      "outputs": []
    },
    {
      "cell_type": "markdown",
      "source": [
        "## Activation"
      ],
      "metadata": {
        "id": "lt3vnZJAqVXb"
      }
    },
    {
      "cell_type": "code",
      "source": [
        "class Activation(LayerInterface):\n",
        "  def __init__(self) -> None:\n",
        "    super().__init__()\n",
        "    pass"
      ],
      "metadata": {
        "id": "PIKmX97sqXEv"
      },
      "execution_count": 696,
      "outputs": []
    },
    {
      "cell_type": "code",
      "source": [
        "class ReLU(Activation):\n",
        "  def __init__(self) -> None:\n",
        "    super().__init__()\n",
        "    self.rate = 0\n",
        "    pass\n",
        "\n",
        "  def transform(self, one_point: np) -> np:\n",
        "    self.set_input(one_point)\n",
        "    return self.relu(one_point)\n",
        "\n",
        "  def cap(self, one_point: np) -> None:\n",
        "    self.mask = np.where(one_point >= 0, 1, self.rate)\n",
        "\n",
        "  def back(self, one_output: np) -> np:\n",
        "    self.set_loss_output(one_output)\n",
        "    return one_output.copy() * self.mask\n",
        "\n",
        "  def relu(self, one_point: np) -> np:\n",
        "    x = one_point.copy()\n",
        "    return np.where(x >= 0, x, self.rate * x)\n"
      ],
      "metadata": {
        "id": "U9nNvuNyqd5R"
      },
      "execution_count": 697,
      "outputs": []
    },
    {
      "cell_type": "code",
      "source": [
        "class Sigmoid(Activation):\n",
        "  def __init__(self) -> None:\n",
        "    super().__init__()\n",
        "    pass\n",
        "\n",
        "  def transform(self, one_point: np) -> np:\n",
        "    self.set_input(one_point)\n",
        "    return self.sigmoid(one_point)\n",
        "\n",
        "  def cap(self, one_point: np) -> None:\n",
        "    self.one_point = one_point.copy()\n",
        "\n",
        "  def back(self, one_output: np) -> np:\n",
        "    self.set_loss_output(one_output)\n",
        "    sig = self.sigmoid(self.one_point)\n",
        "    return one_output.copy() * sig * (1 - sig)\n",
        "\n",
        "  def sigmoid(self, x: np) -> np:\n",
        "    return 1 / (1 + np.exp(-x))\n"
      ],
      "metadata": {
        "id": "SVxgA5vstQE_"
      },
      "execution_count": 698,
      "outputs": []
    },
    {
      "cell_type": "markdown",
      "source": [
        "## Loss"
      ],
      "metadata": {
        "id": "7UyzuBaq4WB4"
      }
    },
    {
      "cell_type": "code",
      "source": [
        "class Loss(LayerInterface):\n",
        "  def __init__(self) -> None:\n",
        "    super().__init__()\n",
        "    pass"
      ],
      "metadata": {
        "id": "rlAzjZDJ3Ute"
      },
      "execution_count": 699,
      "outputs": []
    },
    {
      "cell_type": "code",
      "source": [
        "class StableBinaryCrossEntropy(Loss):\n",
        "  def __init__(self) -> None:\n",
        "    super().__init__()\n",
        "    pass\n",
        "\n",
        "  def transform(self, one_point: np, one_y: np) -> np:\n",
        "    self.set_input(one_point)\n",
        "    z = one_point.copy()\n",
        "    y = one_y.copy()\n",
        "    # return -y * np.log(a) -(1-y) * np.log(1-a)\n",
        "    # print(\"loss: \", -(-y * np.log(1 + np.exp(-z)) + (1 - y) * (-z - np.log(1 + np.exp(-z)))))\n",
        "    return -(-y * np.log(1 + np.exp(-z)) + (1 - y) * (-z - np.log(1 + np.exp(-z))))\n",
        "\n",
        "  def cap(self, one_point: np, one_y: np) -> None:\n",
        "    self.one_point = one_point.copy()\n",
        "    self.one_y = one_y.copy()\n",
        "\n",
        "  def back(self) -> np:\n",
        "    z = self.one_point\n",
        "    y = self.one_y\n",
        "    a = 1 / (1 + np.exp(-z))\n",
        "    return a - y\n"
      ],
      "metadata": {
        "id": "IigKvAJt4YiM"
      },
      "execution_count": 700,
      "outputs": []
    },
    {
      "cell_type": "markdown",
      "source": [
        "# sprint2: Network class"
      ],
      "metadata": {
        "id": "W35JHH5IpBQA"
      }
    },
    {
      "cell_type": "code",
      "source": [
        "class Network:\n",
        "  def __init__(self) -> None:\n",
        "    self.network = []\n",
        "\n",
        "  def add(self, layers) -> None:\n",
        "    if(isinstance(layers, list)):\n",
        "      self.network.extend(layers)\n",
        "    else:\n",
        "      self.network.append(layers)\n",
        "\n",
        "  def addLoss(self, loss_layer: Loss) -> None:\n",
        "    exception(isinstance(loss_layer, Loss), \"Network > addLoss: not is a Loss layer\")\n",
        "\n",
        "    self.network.append(loss_layer)\n",
        "\n",
        "###################################################################################################\n",
        "  def forward_operator(self, one_point: np, df) -> np:\n",
        "    z = one_point.copy()\n",
        "    for i, layer in enumerate(self.network[:-1]): #$ not have loss\n",
        "      layer.cap(z)\n",
        "      z = layer.transform(z).copy()\n",
        "      # catch\n",
        "      df['layer {}'.format(i)].append(layer.getInput())\n",
        "      df['layer {}'.format(i)].append(layer.getParameters())\n",
        "    return z\n",
        "\n",
        "  def backprop_operator(self, one_output: np, df) -> np:\n",
        "    out = one_output.copy()\n",
        "    for i in range(len(self.network)-2, -1, -1):\n",
        "      layer = self.network[i]\n",
        "      der = layer.back(out)\n",
        "      if(isinstance(der, tuple)):\n",
        "        out = der[0]\n",
        "        layer.update(der[1])\n",
        "      else:\n",
        "        out = der\n",
        "      # catch\n",
        "      df['layer {}'.format(i)].append(layer.getLossOutput())\n",
        "      df['layer {}'.format(i)].append(layer.getParameters())\n",
        "    return out\n",
        "\n",
        "###################################################################################################\n",
        "  def fit_one_point(self, one_point: np, one_y: np, noisy = False) -> np:\n",
        "    df = defaultdict(list) # catch\n",
        "    z = self.forward_operator(one_point, df) # forward\n",
        "    self.network[-1].cap(z, one_y)\n",
        "    loss_value = round(np.sum(self.network[-1].transform(z, one_y)), 6) # loss\n",
        "    out = self.network[-1].back() # backprop\n",
        "    self.backprop_operator(out, df)\n",
        "\n",
        "    df['row meaning'].extend([\"Hash(input)\", \"before Hash(params)\", \"Hash(dL/douput)\", \"after Hash(params)\"])\n",
        "    self.df = pd.DataFrame(df)\n",
        "    if(noisy):\n",
        "      verbose(noisy, \"Network > fit_one_point: \")\n",
        "      print(self.df)\n",
        "      print(\"z_lass: \", z)\n",
        "      print(\"loss_value: \", loss_value)\n",
        "      print(\"dL/dz: \", out)\n",
        "    return loss_value\n",
        "\n",
        "  def fit(self, set_points: np, set_y: np, num_epoch: int = 100, noisy = False) -> None:\n",
        "    exception(set_points.shape[0] == set_y.shape[0], \"Network > fit_set_points: size of sample {} {}\".format(set_points.shape, set_y.shape))\n",
        "\n",
        "    self.mean_loss = []\n",
        "    for _ in range(num_epoch):\n",
        "      mean_loss = []\n",
        "      for i, one_point in enumerate(set_points):\n",
        "        one_y = set_y[i]\n",
        "        loss_value = self.fit_one_point(one_point, one_y, noisy = False)\n",
        "        mean_loss.append(loss_value)\n",
        "        # return #!!!\n",
        "      mean_loss = np.mean(mean_loss)\n",
        "      if(noisy):\n",
        "        verbose(noisy, \"Network > fit > (epoch) = ({}): mean_loss_iteration_in_epoch = {}\".format(_, mean_loss))\n",
        "      self.mean_loss.append(mean_loss)\n",
        "    # return self.mean_loss\n",
        "\n",
        "###################################################################################################\n",
        "  def getOutputLayer(self, one_point: np, index: int, noisy = False) -> np:\n",
        "    z = one_point.copy()\n",
        "    for i, layer in enumerate(self.network[:index+1]):\n",
        "      z = layer.transform(z).copy()\n",
        "      if(noisy):\n",
        "        verbose(noisy, \"Network > getOutputLayer > (layer) = ({}): \".format(i))\n",
        "        print(\"Hash(input): \", layer.getInput())\n",
        "        print(\"Hash(params): \", layer.getParameters())\n",
        "        print(\"Hash(output): \", hashNP(z))\n",
        "    return z\n",
        "\n",
        "  def predict(self, set_points: np) -> np:\n",
        "    predictions = np.array([])\n",
        "    for i, one_point in enumerate(set_points):\n",
        "      predictions = np.append(predictions, self.getOutputLayer(one_point, len(self.network)-2))\n",
        "    return predictions\n"
      ],
      "metadata": {
        "id": "haOQ2SHspEp7"
      },
      "execution_count": 701,
      "outputs": []
    },
    {
      "cell_type": "markdown",
      "source": [
        "#sprint3: Architech"
      ],
      "metadata": {
        "id": "aXXX6BBFgHtu"
      }
    },
    {
      "cell_type": "code",
      "source": [
        "configAllLayers(1e-2, np.random.randint(10), np.random.randint(10))"
      ],
      "metadata": {
        "id": "OMfzAyyP6su1"
      },
      "execution_count": 702,
      "outputs": []
    },
    {
      "cell_type": "code",
      "source": [
        "net = Network()\n",
        "net.add([Convolution(size = (7, 7)), ReLU()])\n",
        "net.add([Convolution(size = (3, 3)), ReLU()])\n",
        "\n",
        "net.add([MaxPooling(size = (2, 2))])\n",
        "\n",
        "net.add(Flatten())\n",
        "\n",
        "net.add([Dense(size_output = 16), ReLU()])\n",
        "net.add([Dense(size_output = 8), ReLU()])\n",
        "\n",
        "net.add(Dense(size_output = 1))\n",
        "net.addLoss(StableBinaryCrossEntropy())"
      ],
      "metadata": {
        "id": "X4-2IN9JBUQo"
      },
      "execution_count": 703,
      "outputs": []
    },
    {
      "cell_type": "markdown",
      "source": [
        "# sprint3: Data"
      ],
      "metadata": {
        "id": "eBFG7DO9RfWw"
      }
    },
    {
      "cell_type": "code",
      "source": [
        "from keras.datasets import mnist"
      ],
      "metadata": {
        "id": "u431sT1vQlgd"
      },
      "execution_count": 704,
      "outputs": []
    },
    {
      "cell_type": "markdown",
      "source": [
        "- load data"
      ],
      "metadata": {
        "id": "yHGJBvv4-RfL"
      }
    },
    {
      "cell_type": "code",
      "source": [
        "# load data\n",
        "(x_in, y_in), (x_out, y_out) = mnist.load_data()"
      ],
      "metadata": {
        "id": "O4IrUxkWRMf_"
      },
      "execution_count": 705,
      "outputs": []
    },
    {
      "cell_type": "code",
      "source": [
        "# print(x_in)\n",
        "print(y_in)\n",
        "# print(x_out)\n",
        "print(y_out)"
      ],
      "metadata": {
        "colab": {
          "base_uri": "https://localhost:8080/"
        },
        "id": "A65Hw2m08s97",
        "outputId": "5bf5b1ee-0400-4d53-a82e-11d0c5b381fe"
      },
      "execution_count": 706,
      "outputs": [
        {
          "output_type": "stream",
          "name": "stdout",
          "text": [
            "[5 0 4 ... 5 6 8]\n",
            "[7 2 1 ... 4 5 6]\n"
          ]
        }
      ]
    },
    {
      "cell_type": "markdown",
      "source": [
        "- select data"
      ],
      "metadata": {
        "id": "rDp7b03E-MZ6"
      }
    },
    {
      "cell_type": "code",
      "source": [
        "indexing = np.where((y_in == 0) | (y_in == 1))\n",
        "y_in = y_in[indexing]\n",
        "x_in = x_in[indexing]\n",
        "y_in"
      ],
      "metadata": {
        "colab": {
          "base_uri": "https://localhost:8080/"
        },
        "id": "0TFhLoBZS8U0",
        "outputId": "b9c232da-16fa-4fcb-d0d6-d803e9a6e1ac"
      },
      "execution_count": 707,
      "outputs": [
        {
          "output_type": "execute_result",
          "data": {
            "text/plain": [
              "array([0, 1, 1, ..., 1, 0, 1], dtype=uint8)"
            ]
          },
          "metadata": {},
          "execution_count": 707
        }
      ]
    },
    {
      "cell_type": "code",
      "source": [
        "indexing = np.where((y_out == 0) | (y_out == 1))\n",
        "y_out = y_out[indexing]\n",
        "x_out = x_out[indexing]\n",
        "y_out"
      ],
      "metadata": {
        "colab": {
          "base_uri": "https://localhost:8080/"
        },
        "id": "I_O0LISbTJpA",
        "outputId": "9ee2867a-76cf-4e65-fb9a-60ad1aa12765"
      },
      "execution_count": 708,
      "outputs": [
        {
          "output_type": "execute_result",
          "data": {
            "text/plain": [
              "array([1, 0, 1, ..., 1, 0, 1], dtype=uint8)"
            ]
          },
          "metadata": {},
          "execution_count": 708
        }
      ]
    },
    {
      "cell_type": "code",
      "source": [
        "y_in = y_in[:100]\n",
        "x_in = x_in[:100]\n",
        "y_out = y_out[:100]\n",
        "x_out = x_out[:100]"
      ],
      "metadata": {
        "id": "0VTwZzjoAUUL"
      },
      "execution_count": 709,
      "outputs": []
    },
    {
      "cell_type": "markdown",
      "source": [
        "- cast type and shape"
      ],
      "metadata": {
        "id": "x513aswt-Z1V"
      }
    },
    {
      "cell_type": "code",
      "source": [
        "print(type(x_in), x_in.shape)\n",
        "print(type(x_out), x_out.shape)\n",
        "print(type(y_in), y_in.shape)\n",
        "print(type(y_out), y_out.shape)"
      ],
      "metadata": {
        "colab": {
          "base_uri": "https://localhost:8080/"
        },
        "id": "42OWSJ4e9ztu",
        "outputId": "883d87f4-94ac-4d79-8cd9-4f03e4b175f1"
      },
      "execution_count": 710,
      "outputs": [
        {
          "output_type": "stream",
          "name": "stdout",
          "text": [
            "<class 'numpy.ndarray'> (100, 28, 28)\n",
            "<class 'numpy.ndarray'> (100, 28, 28)\n",
            "<class 'numpy.ndarray'> (100,)\n",
            "<class 'numpy.ndarray'> (100,)\n"
          ]
        }
      ]
    },
    {
      "cell_type": "markdown",
      "source": [
        "- observe data"
      ],
      "metadata": {
        "id": "SZcNu47F-ln7"
      }
    },
    {
      "cell_type": "code",
      "source": [
        "print(\"#image 1: \", np.sum(y_in == 1))\n",
        "print(\"#image 0: \", np.sum(y_in == 0))\n",
        "print(\"#image: \", y_in.shape)"
      ],
      "metadata": {
        "colab": {
          "base_uri": "https://localhost:8080/"
        },
        "id": "9sq04eH0-odB",
        "outputId": "ad576f60-b162-4839-a1d1-aa4bfd0f53c4"
      },
      "execution_count": 711,
      "outputs": [
        {
          "output_type": "stream",
          "name": "stdout",
          "text": [
            "#image 1:  57\n",
            "#image 0:  43\n",
            "#image:  (100,)\n"
          ]
        }
      ]
    },
    {
      "cell_type": "markdown",
      "source": [
        "## Fit"
      ],
      "metadata": {
        "id": "8axnVMtw8guL"
      }
    },
    {
      "cell_type": "code",
      "source": [
        "net.fit(x_in, y_in, num_epoch = 100, noisy = True)"
      ],
      "metadata": {
        "id": "A1hGjYi5Tscc",
        "colab": {
          "base_uri": "https://localhost:8080/"
        },
        "outputId": "bdbd83a0-5f58-47e0-b43e-34ca3a45cb79"
      },
      "execution_count": 712,
      "outputs": [
        {
          "output_type": "stream",
          "name": "stdout",
          "text": [
            "__verbose__:  Network > fit > (epoch) = (0): mean_loss_iteration_in_epoch = 7.636449941022163e+16\n",
            "__verbose__:  Network > fit > (epoch) = (1): mean_loss_iteration_in_epoch = 22.53740123\n",
            "__verbose__:  Network > fit > (epoch) = (2): mean_loss_iteration_in_epoch = 22.35250123\n",
            "__verbose__:  Network > fit > (epoch) = (3): mean_loss_iteration_in_epoch = 22.16760123\n",
            "__verbose__:  Network > fit > (epoch) = (4): mean_loss_iteration_in_epoch = 21.982701229999996\n",
            "__verbose__:  Network > fit > (epoch) = (5): mean_loss_iteration_in_epoch = 21.797801229999994\n",
            "__verbose__:  Network > fit > (epoch) = (6): mean_loss_iteration_in_epoch = 21.61290123\n",
            "__verbose__:  Network > fit > (epoch) = (7): mean_loss_iteration_in_epoch = 21.428001230000003\n",
            "__verbose__:  Network > fit > (epoch) = (8): mean_loss_iteration_in_epoch = 21.243101229999997\n",
            "__verbose__:  Network > fit > (epoch) = (9): mean_loss_iteration_in_epoch = 21.058201230000005\n",
            "__verbose__:  Network > fit > (epoch) = (10): mean_loss_iteration_in_epoch = 20.873301230000003\n",
            "__verbose__:  Network > fit > (epoch) = (11): mean_loss_iteration_in_epoch = 20.68840123\n",
            "__verbose__:  Network > fit > (epoch) = (12): mean_loss_iteration_in_epoch = 20.503501229999998\n",
            "__verbose__:  Network > fit > (epoch) = (13): mean_loss_iteration_in_epoch = 20.318601230000002\n",
            "__verbose__:  Network > fit > (epoch) = (14): mean_loss_iteration_in_epoch = 20.13370123\n",
            "__verbose__:  Network > fit > (epoch) = (15): mean_loss_iteration_in_epoch = 19.94880123\n",
            "__verbose__:  Network > fit > (epoch) = (16): mean_loss_iteration_in_epoch = 19.763901230000002\n",
            "__verbose__:  Network > fit > (epoch) = (17): mean_loss_iteration_in_epoch = 19.579001230000003\n",
            "__verbose__:  Network > fit > (epoch) = (18): mean_loss_iteration_in_epoch = 19.39410123\n",
            "__verbose__:  Network > fit > (epoch) = (19): mean_loss_iteration_in_epoch = 19.20920123\n",
            "__verbose__:  Network > fit > (epoch) = (20): mean_loss_iteration_in_epoch = 19.02430123\n",
            "__verbose__:  Network > fit > (epoch) = (21): mean_loss_iteration_in_epoch = 18.83940123\n",
            "__verbose__:  Network > fit > (epoch) = (22): mean_loss_iteration_in_epoch = 18.65450123\n",
            "__verbose__:  Network > fit > (epoch) = (23): mean_loss_iteration_in_epoch = 18.469601230000002\n",
            "__verbose__:  Network > fit > (epoch) = (24): mean_loss_iteration_in_epoch = 18.28470123\n",
            "__verbose__:  Network > fit > (epoch) = (25): mean_loss_iteration_in_epoch = 18.099801229999997\n",
            "__verbose__:  Network > fit > (epoch) = (26): mean_loss_iteration_in_epoch = 17.91490123\n",
            "__verbose__:  Network > fit > (epoch) = (27): mean_loss_iteration_in_epoch = 17.73000123\n",
            "__verbose__:  Network > fit > (epoch) = (28): mean_loss_iteration_in_epoch = 17.545101229999997\n",
            "__verbose__:  Network > fit > (epoch) = (29): mean_loss_iteration_in_epoch = 17.36020123\n",
            "__verbose__:  Network > fit > (epoch) = (30): mean_loss_iteration_in_epoch = 17.17530123\n",
            "__verbose__:  Network > fit > (epoch) = (31): mean_loss_iteration_in_epoch = 16.99040123\n",
            "__verbose__:  Network > fit > (epoch) = (32): mean_loss_iteration_in_epoch = 16.805501229999997\n",
            "__verbose__:  Network > fit > (epoch) = (33): mean_loss_iteration_in_epoch = 16.620601230000002\n",
            "__verbose__:  Network > fit > (epoch) = (34): mean_loss_iteration_in_epoch = 16.435701229999996\n",
            "__verbose__:  Network > fit > (epoch) = (35): mean_loss_iteration_in_epoch = 16.25080123\n",
            "__verbose__:  Network > fit > (epoch) = (36): mean_loss_iteration_in_epoch = 16.06590123\n",
            "__verbose__:  Network > fit > (epoch) = (37): mean_loss_iteration_in_epoch = 15.881001229999999\n",
            "__verbose__:  Network > fit > (epoch) = (38): mean_loss_iteration_in_epoch = 15.696101230000002\n",
            "__verbose__:  Network > fit > (epoch) = (39): mean_loss_iteration_in_epoch = 15.51120123\n",
            "__verbose__:  Network > fit > (epoch) = (40): mean_loss_iteration_in_epoch = 15.326301230000002\n",
            "__verbose__:  Network > fit > (epoch) = (41): mean_loss_iteration_in_epoch = 15.14140123\n",
            "__verbose__:  Network > fit > (epoch) = (42): mean_loss_iteration_in_epoch = 14.956501229999999\n",
            "__verbose__:  Network > fit > (epoch) = (43): mean_loss_iteration_in_epoch = 14.771601230000002\n",
            "__verbose__:  Network > fit > (epoch) = (44): mean_loss_iteration_in_epoch = 14.586701230000001\n",
            "__verbose__:  Network > fit > (epoch) = (45): mean_loss_iteration_in_epoch = 14.401801229999998\n",
            "__verbose__:  Network > fit > (epoch) = (46): mean_loss_iteration_in_epoch = 14.216901229999998\n",
            "__verbose__:  Network > fit > (epoch) = (47): mean_loss_iteration_in_epoch = 14.032001230000002\n",
            "__verbose__:  Network > fit > (epoch) = (48): mean_loss_iteration_in_epoch = 13.84710123\n",
            "__verbose__:  Network > fit > (epoch) = (49): mean_loss_iteration_in_epoch = 13.662201229999999\n",
            "__verbose__:  Network > fit > (epoch) = (50): mean_loss_iteration_in_epoch = 13.477301229999998\n",
            "__verbose__:  Network > fit > (epoch) = (51): mean_loss_iteration_in_epoch = 13.292401230000001\n",
            "__verbose__:  Network > fit > (epoch) = (52): mean_loss_iteration_in_epoch = 13.10750123\n",
            "__verbose__:  Network > fit > (epoch) = (53): mean_loss_iteration_in_epoch = 12.922601229999998\n",
            "__verbose__:  Network > fit > (epoch) = (54): mean_loss_iteration_in_epoch = 12.737701230000003\n",
            "__verbose__:  Network > fit > (epoch) = (55): mean_loss_iteration_in_epoch = 12.55280123\n",
            "__verbose__:  Network > fit > (epoch) = (56): mean_loss_iteration_in_epoch = 12.36790123\n",
            "__verbose__:  Network > fit > (epoch) = (57): mean_loss_iteration_in_epoch = 12.183001229999997\n",
            "__verbose__:  Network > fit > (epoch) = (58): mean_loss_iteration_in_epoch = 11.99810123\n",
            "__verbose__:  Network > fit > (epoch) = (59): mean_loss_iteration_in_epoch = 11.813201229999997\n",
            "__verbose__:  Network > fit > (epoch) = (60): mean_loss_iteration_in_epoch = 11.62830123\n",
            "__verbose__:  Network > fit > (epoch) = (61): mean_loss_iteration_in_epoch = 11.443401230000001\n",
            "__verbose__:  Network > fit > (epoch) = (62): mean_loss_iteration_in_epoch = 11.25850123\n",
            "__verbose__:  Network > fit > (epoch) = (63): mean_loss_iteration_in_epoch = 11.073601230000001\n",
            "__verbose__:  Network > fit > (epoch) = (64): mean_loss_iteration_in_epoch = 10.888701229999999\n",
            "__verbose__:  Network > fit > (epoch) = (65): mean_loss_iteration_in_epoch = 10.703801230000002\n",
            "__verbose__:  Network > fit > (epoch) = (66): mean_loss_iteration_in_epoch = 10.518901229999999\n",
            "__verbose__:  Network > fit > (epoch) = (67): mean_loss_iteration_in_epoch = 10.334001229999998\n",
            "__verbose__:  Network > fit > (epoch) = (68): mean_loss_iteration_in_epoch = 10.14910123\n",
            "__verbose__:  Network > fit > (epoch) = (69): mean_loss_iteration_in_epoch = 9.96420123\n",
            "__verbose__:  Network > fit > (epoch) = (70): mean_loss_iteration_in_epoch = 9.77930123\n",
            "__verbose__:  Network > fit > (epoch) = (71): mean_loss_iteration_in_epoch = 9.59440123\n",
            "__verbose__:  Network > fit > (epoch) = (72): mean_loss_iteration_in_epoch = 9.409501229999998\n",
            "__verbose__:  Network > fit > (epoch) = (73): mean_loss_iteration_in_epoch = 9.224601230000001\n",
            "__verbose__:  Network > fit > (epoch) = (74): mean_loss_iteration_in_epoch = 9.039701229999999\n",
            "__verbose__:  Network > fit > (epoch) = (75): mean_loss_iteration_in_epoch = 8.85480123\n",
            "__verbose__:  Network > fit > (epoch) = (76): mean_loss_iteration_in_epoch = 8.66990105\n",
            "__verbose__:  Network > fit > (epoch) = (77): mean_loss_iteration_in_epoch = 8.48500066\n",
            "__verbose__:  Network > fit > (epoch) = (78): mean_loss_iteration_in_epoch = 8.300100660000002\n",
            "__verbose__:  Network > fit > (epoch) = (79): mean_loss_iteration_in_epoch = 8.115200260000002\n",
            "__verbose__:  Network > fit > (epoch) = (80): mean_loss_iteration_in_epoch = 7.93029981\n",
            "__verbose__:  Network > fit > (epoch) = (81): mean_loss_iteration_in_epoch = 7.745398930000001\n",
            "__verbose__:  Network > fit > (epoch) = (82): mean_loss_iteration_in_epoch = 7.560497810000002\n",
            "__verbose__:  Network > fit > (epoch) = (83): mean_loss_iteration_in_epoch = 7.375596379999999\n",
            "__verbose__:  Network > fit > (epoch) = (84): mean_loss_iteration_in_epoch = 7.190693490000001\n",
            "__verbose__:  Network > fit > (epoch) = (85): mean_loss_iteration_in_epoch = 7.0057890899999995\n",
            "__verbose__:  Network > fit > (epoch) = (86): mean_loss_iteration_in_epoch = 6.8208823899999995\n",
            "__verbose__:  Network > fit > (epoch) = (87): mean_loss_iteration_in_epoch = 6.635972050000001\n",
            "__verbose__:  Network > fit > (epoch) = (88): mean_loss_iteration_in_epoch = 6.451056219999999\n",
            "__verbose__:  Network > fit > (epoch) = (89): mean_loss_iteration_in_epoch = 6.266132070000001\n",
            "__verbose__:  Network > fit > (epoch) = (90): mean_loss_iteration_in_epoch = 6.0811948099999995\n",
            "__verbose__:  Network > fit > (epoch) = (91): mean_loss_iteration_in_epoch = 5.896237559999999\n",
            "__verbose__:  Network > fit > (epoch) = (92): mean_loss_iteration_in_epoch = 5.711249430000001\n",
            "__verbose__:  Network > fit > (epoch) = (93): mean_loss_iteration_in_epoch = 5.5262141\n",
            "__verbose__:  Network > fit > (epoch) = (94): mean_loss_iteration_in_epoch = 5.3411060500000005\n",
            "__verbose__:  Network > fit > (epoch) = (95): mean_loss_iteration_in_epoch = 5.15588619\n",
            "__verbose__:  Network > fit > (epoch) = (96): mean_loss_iteration_in_epoch = 4.97049449\n",
            "__verbose__:  Network > fit > (epoch) = (97): mean_loss_iteration_in_epoch = 4.78483863\n",
            "__verbose__:  Network > fit > (epoch) = (98): mean_loss_iteration_in_epoch = 4.598776700000001\n",
            "__verbose__:  Network > fit > (epoch) = (99): mean_loss_iteration_in_epoch = 4.41209074\n"
          ]
        }
      ]
    },
    {
      "cell_type": "code",
      "source": [
        "z = net.predict(x_in)\n",
        "print(z)\n",
        "preds = 1 / (1 + np.exp(-z))\n",
        "print(preds)\n",
        "preds = np.where(preds >= 0.5, 1, 0)\n",
        "print(\"accuray after train: \", round(np.sum(preds == y_in) / y_in.shape[0], 6))"
      ],
      "metadata": {
        "colab": {
          "base_uri": "https://localhost:8080/"
        },
        "id": "6AyG7-GPcTDo",
        "outputId": "857603bd-3e21-4b02-c7e1-f931fb56e0cc"
      },
      "execution_count": 713,
      "outputs": [
        {
          "output_type": "stream",
          "name": "stdout",
          "text": [
            "[10.05266217 10.05266217 10.05266217 10.05266217 10.05266217 10.05266217\n",
            " 10.05266217 10.05266217 10.05266217 10.05266217 10.05266217 10.05266217\n",
            " 10.05266217 10.05266217 10.05266217 10.05266217 10.05266217 10.05266217\n",
            " 10.05266217 10.05266217 10.05266217 10.05266217 10.05266217 10.05266217\n",
            " 10.05266217 10.05266217 10.05266217 10.05266217 10.05266217 10.05266217\n",
            " 10.05266217 10.05266217 10.05266217 10.05266217 10.05266217 10.05266217\n",
            " 10.05266217 10.05266217 10.05266217 10.05266217 10.05266217 10.05266217\n",
            " 10.05266217 10.05266217 10.05266217 10.05266217 10.05266217 10.05266217\n",
            " 10.05266217 10.05266217 10.05266217 10.05266217 10.05266217 10.05266217\n",
            " 10.05266217 10.05266217 10.05266217 10.05266217 10.05266217 10.05266217\n",
            " 10.05266217 10.05266217 10.05266217 10.05266217 10.05266217 10.05266217\n",
            " 10.05266217 10.05266217 10.05266217 10.05266217 10.05266217 10.05266217\n",
            " 10.05266217 10.05266217 10.05266217 10.05266217 10.05266217 10.05266217\n",
            " 10.05266217 10.05266217 10.05266217 10.05266217 10.05266217 10.05266217\n",
            " 10.05266217 10.05266217 10.05266217 10.05266217 10.05266217 10.05266217\n",
            " 10.05266217 10.05266217 10.05266217 10.05266217 10.05266217 10.05266217\n",
            " 10.05266217 10.05266217 10.05266217 10.05266217]\n",
            "[0.99995693 0.99995693 0.99995693 0.99995693 0.99995693 0.99995693\n",
            " 0.99995693 0.99995693 0.99995693 0.99995693 0.99995693 0.99995693\n",
            " 0.99995693 0.99995693 0.99995693 0.99995693 0.99995693 0.99995693\n",
            " 0.99995693 0.99995693 0.99995693 0.99995693 0.99995693 0.99995693\n",
            " 0.99995693 0.99995693 0.99995693 0.99995693 0.99995693 0.99995693\n",
            " 0.99995693 0.99995693 0.99995693 0.99995693 0.99995693 0.99995693\n",
            " 0.99995693 0.99995693 0.99995693 0.99995693 0.99995693 0.99995693\n",
            " 0.99995693 0.99995693 0.99995693 0.99995693 0.99995693 0.99995693\n",
            " 0.99995693 0.99995693 0.99995693 0.99995693 0.99995693 0.99995693\n",
            " 0.99995693 0.99995693 0.99995693 0.99995693 0.99995693 0.99995693\n",
            " 0.99995693 0.99995693 0.99995693 0.99995693 0.99995693 0.99995693\n",
            " 0.99995693 0.99995693 0.99995693 0.99995693 0.99995693 0.99995693\n",
            " 0.99995693 0.99995693 0.99995693 0.99995693 0.99995693 0.99995693\n",
            " 0.99995693 0.99995693 0.99995693 0.99995693 0.99995693 0.99995693\n",
            " 0.99995693 0.99995693 0.99995693 0.99995693 0.99995693 0.99995693\n",
            " 0.99995693 0.99995693 0.99995693 0.99995693 0.99995693 0.99995693\n",
            " 0.99995693 0.99995693 0.99995693 0.99995693]\n",
            "accuray after train:  0.57\n"
          ]
        }
      ]
    },
    {
      "cell_type": "code",
      "source": [
        "plt.plot(net.mean_loss[50:])"
      ],
      "metadata": {
        "colab": {
          "base_uri": "https://localhost:8080/",
          "height": 447
        },
        "id": "t21LRQh2iaZP",
        "outputId": "730ba2ee-344b-43f4-8cdb-722affb65ad2"
      },
      "execution_count": 714,
      "outputs": [
        {
          "output_type": "execute_result",
          "data": {
            "text/plain": [
              "[<matplotlib.lines.Line2D at 0x7c54f81e9210>]"
            ]
          },
          "metadata": {},
          "execution_count": 714
        },
        {
          "output_type": "display_data",
          "data": {
            "text/plain": [
              "<Figure size 640x480 with 1 Axes>"
            ],
            "image/png": "[encoded data removed]"
          },
          "metadata": {}
        }
      ]
    },
    {
      "cell_type": "code",
      "source": [
        "net.getOutputLayer(x_in[0], len(net.network)-2, noisy = True)"
      ],
      "metadata": {
        "colab": {
          "base_uri": "https://localhost:8080/"
        },
        "id": "uY5NN7jFjaOi",
        "outputId": "a02c4af7-a46b-42ea-e1a4-40f8d4f7f626"
      },
      "execution_count": 715,
      "outputs": [
        {
          "output_type": "stream",
          "name": "stdout",
          "text": [
            "__verbose__:  Network > getOutputLayer > (layer) = (0): \n",
            "Hash(input):  ((28, 28), (106.7567328088, 31095))\n",
            "Hash(params):  ((7, 7), (138779615583360.66, -963776503826635.8))\n",
            "Hash(output):  (1.6261439620575485e+18, -2.9028860338972463e+19)\n",
            "__verbose__:  Network > getOutputLayer > (layer) = (1): \n",
            "Hash(input):  ((22, 22), (1.6261439620575485e+18, -2.9028860338972463e+19))\n",
            "Hash(params):  ((0,), (0.0, 0.0))\n",
            "Hash(output):  (0.0, 0.0)\n",
            "__verbose__:  Network > getOutputLayer > (layer) = (2): \n",
            "Hash(input):  ((22, 22), (0.0, 0.0))\n",
            "Hash(params):  ((3, 3), (177053723391125.0, -530965624464091.6))\n",
            "Hash(output):  (0.0, 0.0)\n",
            "__verbose__:  Network > getOutputLayer > (layer) = (3): \n",
            "Hash(input):  ((20, 20), (0.0, 0.0))\n",
            "Hash(params):  ((0,), (0.0, 0.0))\n",
            "Hash(output):  (0.0, 0.0)\n",
            "__verbose__:  Network > getOutputLayer > (layer) = (4): \n",
            "Hash(input):  ((20, 20), (0.0, 0.0))\n",
            "Hash(params):  ((0,), (0.0, 0.0))\n",
            "Hash(output):  (0.0, 0.0)\n",
            "__verbose__:  Network > getOutputLayer > (layer) = (5): \n",
            "Hash(input):  ((10, 10), (0.0, 0.0))\n",
            "Hash(params):  ((0,), (0.0, 0.0))\n",
            "Hash(output):  (0.0, 0.0)\n",
            "__verbose__:  Network > getOutputLayer > (layer) = (6): \n",
            "Hash(input):  ((100, 1), (0.0, 0.0))\n",
            "Hash(params):  ((16, 101), (21702831851063.047, -741171991284939.9))\n",
            "Hash(output):  (4588.4151577015, -16448.0782339364)\n",
            "__verbose__:  Network > getOutputLayer > (layer) = (7): \n",
            "Hash(input):  ((16, 1), (4588.4151577015, -16448.0782339364))\n",
            "Hash(params):  ((0,), (0.0, 0.0))\n",
            "Hash(output):  (184.5608930328, 184.5608930328)\n",
            "__verbose__:  Network > getOutputLayer > (layer) = (8): \n",
            "Hash(input):  ((16, 1), (184.5608930328, 184.5608930328))\n",
            "Hash(params):  ((8, 17), (79230522932905.78, -813188101801436.0))\n",
            "Hash(output):  (3223172370553260.5, -8336553070963942.0)\n",
            "__verbose__:  Network > getOutputLayer > (layer) = (9): \n",
            "Hash(input):  ((8, 1), (3223172370553260.5, -8336553070963942.0))\n",
            "Hash(params):  ((0,), (0.0, 0.0))\n",
            "Hash(output):  (0.0, 0.0)\n",
            "__verbose__:  Network > getOutputLayer > (layer) = (10): \n",
            "Hash(input):  ((8, 1), (0.0, 0.0))\n",
            "Hash(params):  ((1, 9), (172377484791138.4, -482463491709458.5))\n",
            "Hash(output):  (10.0526621701, 10.0526621701)\n"
          ]
        },
        {
          "output_type": "execute_result",
          "data": {
            "text/plain": [
              "array([[10.05266217]])"
            ]
          },
          "metadata": {},
          "execution_count": 715
        }
      ]
    },
    {
      "cell_type": "code",
      "source": [
        "net.getOutputLayer(x_in[1], len(net.network)-2, noisy = True)"
      ],
      "metadata": {
        "colab": {
          "base_uri": "https://localhost:8080/"
        },
        "id": "YO5qadsLbL2o",
        "outputId": "12d9020d-1aa2-4a07-c155-bc68c9feb98d"
      },
      "execution_count": 716,
      "outputs": [
        {
          "output_type": "stream",
          "name": "stdout",
          "text": [
            "__verbose__:  Network > getOutputLayer > (layer) = (0): \n",
            "Hash(input):  ((28, 28), (73.4098086089, 17135))\n",
            "Hash(params):  ((7, 7), (138779615583360.66, -963776503826635.8))\n",
            "Hash(output):  (1.168779341256121e+18, -1.5868253335994941e+19)\n",
            "__verbose__:  Network > getOutputLayer > (layer) = (1): \n",
            "Hash(input):  ((22, 22), (1.168779341256121e+18, -1.5868253335994941e+19))\n",
            "Hash(params):  ((0,), (0.0, 0.0))\n",
            "Hash(output):  (0.0, 0.0)\n",
            "__verbose__:  Network > getOutputLayer > (layer) = (2): \n",
            "Hash(input):  ((22, 22), (0.0, 0.0))\n",
            "Hash(params):  ((3, 3), (177053723391125.0, -530965624464091.6))\n",
            "Hash(output):  (0.0, 0.0)\n",
            "__verbose__:  Network > getOutputLayer > (layer) = (3): \n",
            "Hash(input):  ((20, 20), (0.0, 0.0))\n",
            "Hash(params):  ((0,), (0.0, 0.0))\n",
            "Hash(output):  (0.0, 0.0)\n",
            "__verbose__:  Network > getOutputLayer > (layer) = (4): \n",
            "Hash(input):  ((20, 20), (0.0, 0.0))\n",
            "Hash(params):  ((0,), (0.0, 0.0))\n",
            "Hash(output):  (0.0, 0.0)\n",
            "__verbose__:  Network > getOutputLayer > (layer) = (5): \n",
            "Hash(input):  ((10, 10), (0.0, 0.0))\n",
            "Hash(params):  ((0,), (0.0, 0.0))\n",
            "Hash(output):  (0.0, 0.0)\n",
            "__verbose__:  Network > getOutputLayer > (layer) = (6): \n",
            "Hash(input):  ((100, 1), (0.0, 0.0))\n",
            "Hash(params):  ((16, 101), (21702831851063.047, -741171991284939.9))\n",
            "Hash(output):  (4588.4151577015, -16448.0782339364)\n",
            "__verbose__:  Network > getOutputLayer > (layer) = (7): \n",
            "Hash(input):  ((16, 1), (4588.4151577015, -16448.0782339364))\n",
            "Hash(params):  ((0,), (0.0, 0.0))\n",
            "Hash(output):  (184.5608930328, 184.5608930328)\n",
            "__verbose__:  Network > getOutputLayer > (layer) = (8): \n",
            "Hash(input):  ((16, 1), (184.5608930328, 184.5608930328))\n",
            "Hash(params):  ((8, 17), (79230522932905.78, -813188101801436.0))\n",
            "Hash(output):  (3223172370553260.5, -8336553070963942.0)\n",
            "__verbose__:  Network > getOutputLayer > (layer) = (9): \n",
            "Hash(input):  ((8, 1), (3223172370553260.5, -8336553070963942.0))\n",
            "Hash(params):  ((0,), (0.0, 0.0))\n",
            "Hash(output):  (0.0, 0.0)\n",
            "__verbose__:  Network > getOutputLayer > (layer) = (10): \n",
            "Hash(input):  ((8, 1), (0.0, 0.0))\n",
            "Hash(params):  ((1, 9), (172377484791138.4, -482463491709458.5))\n",
            "Hash(output):  (10.0526621701, 10.0526621701)\n"
          ]
        },
        {
          "output_type": "execute_result",
          "data": {
            "text/plain": [
              "array([[10.05266217]])"
            ]
          },
          "metadata": {},
          "execution_count": 716
        }
      ]
    },
    {
      "cell_type": "markdown",
      "source": [
        "## Keras"
      ],
      "metadata": {
        "id": "Iw9pnarzO0C0"
      }
    },
    {
      "cell_type": "code",
      "source": [
        "import keras\n",
        "model = keras.Sequential()\n",
        "\n",
        "model.add(keras.layers.Conv2D(1, (7, 7), activation='relu', input_shape=(28,28,1)))\n",
        "model.add(keras.layers.Conv2D(1, (3, 3), activation='relu'))\n",
        "\n",
        "model.add(keras.layers.MaxPooling2D(pool_size=(2,2)))\n",
        "\n",
        "model.add(keras.layers.Flatten())\n",
        "\n",
        "model.add(keras.layers.Dense(16, activation='relu'))\n",
        "model.add(keras.layers.Dense(8, activation='relu'))\n",
        "\n",
        "model.add(keras.layers.Dense(1, activation='sigmoid'))\n",
        "\n",
        "\n",
        "model.compile(\n",
        "  loss=keras.losses.BinaryCrossentropy(),\n",
        "  optimizer=keras.optimizers.SGD(learning_rate = 1e-2),\n",
        "  metrics=['accuracy'])\n",
        "\n",
        "\n",
        "numOfEpoch = 100\n",
        "H = model.fit(x_in, y_in,batch_size=1, epochs=numOfEpoch, verbose=1)\n",
        "\n",
        "\n",
        "fig = plt.figure()\n",
        "\n",
        "plt.plot(np.arange(0, numOfEpoch), H.history['loss'], label='training loss')\n",
        "# plt.plot(np.arange(0, numOfEpoch), H.history['val_loss'], label='validation loss')\n",
        "plt.plot(np.arange(0, numOfEpoch), H.history['accuracy'], label='accuracy')\n",
        "# plt.plot(np.arange(0, numOfEpoch), H.history['val_accuracy'], label='validation accuracy')\n",
        "\n",
        "plt.title('Accuracy and Loss')\n",
        "plt.xlabel('Epoch')\n",
        "plt.ylabel('Loss|Accuracy')\n",
        "plt.legend()\n"
      ],
      "metadata": {
        "colab": {
          "base_uri": "https://localhost:8080/",
          "height": 1000
        },
        "id": "NNbOWXao67ab",
        "outputId": "b7d53e1f-0cca-4ad1-bda8-7c611b14f118"
      },
      "execution_count": 717,
      "outputs": [
        {
          "output_type": "stream",
          "name": "stdout",
          "text": [
            "Epoch 1/100\n",
            "100/100 [==============================] - 2s 5ms/step - loss: 1.2239 - accuracy: 0.5800\n",
            "Epoch 2/100\n",
            "100/100 [==============================] - 1s 5ms/step - loss: 0.6880 - accuracy: 0.5700\n",
            "Epoch 3/100\n",
            "100/100 [==============================] - 1s 6ms/step - loss: 0.6866 - accuracy: 0.5700\n",
            "Epoch 4/100\n",
            "100/100 [==============================] - 1s 5ms/step - loss: 0.6857 - accuracy: 0.5700\n",
            "Epoch 5/100\n",
            "100/100 [==============================] - 1s 5ms/step - loss: 0.6852 - accuracy: 0.5700\n",
            "Epoch 6/100\n",
            "100/100 [==============================] - 1s 5ms/step - loss: 0.6854 - accuracy: 0.5700\n",
            "Epoch 7/100\n",
            "100/100 [==============================] - 0s 4ms/step - loss: 0.6852 - accuracy: 0.5700\n",
            "Epoch 8/100\n",
            "100/100 [==============================] - 0s 4ms/step - loss: 0.6853 - accuracy: 0.5700\n",
            "Epoch 9/100\n",
            "100/100 [==============================] - 0s 4ms/step - loss: 0.6852 - accuracy: 0.5700\n",
            "Epoch 10/100\n",
            "100/100 [==============================] - 0s 4ms/step - loss: 0.6852 - accuracy: 0.5700\n",
            "Epoch 11/100\n",
            "100/100 [==============================] - 0s 4ms/step - loss: 0.6850 - accuracy: 0.5700\n",
            "Epoch 12/100\n",
            "100/100 [==============================] - 0s 4ms/step - loss: 0.6851 - accuracy: 0.5700\n",
            "Epoch 13/100\n",
            "100/100 [==============================] - 0s 4ms/step - loss: 0.6850 - accuracy: 0.5700\n",
            "Epoch 14/100\n",
            "100/100 [==============================] - 0s 4ms/step - loss: 0.6851 - accuracy: 0.5700\n",
            "Epoch 15/100\n",
            "100/100 [==============================] - 0s 3ms/step - loss: 0.6850 - accuracy: 0.5700\n",
            "Epoch 16/100\n",
            "100/100 [==============================] - 0s 4ms/step - loss: 0.6851 - accuracy: 0.5700\n",
            "Epoch 17/100\n",
            "100/100 [==============================] - 0s 4ms/step - loss: 0.6851 - accuracy: 0.5700\n",
            "Epoch 18/100\n",
            "100/100 [==============================] - 0s 3ms/step - loss: 0.6850 - accuracy: 0.5700\n",
            "Epoch 19/100\n",
            "100/100 [==============================] - 0s 4ms/step - loss: 0.6852 - accuracy: 0.5700\n",
            "Epoch 20/100\n",
            "100/100 [==============================] - 0s 4ms/step - loss: 0.6851 - accuracy: 0.5700\n",
            "Epoch 21/100\n",
            "100/100 [==============================] - 0s 4ms/step - loss: 0.6851 - accuracy: 0.5700\n",
            "Epoch 22/100\n",
            "100/100 [==============================] - 0s 4ms/step - loss: 0.6850 - accuracy: 0.5700\n",
            "Epoch 23/100\n",
            "100/100 [==============================] - 0s 4ms/step - loss: 0.6851 - accuracy: 0.5700\n",
            "Epoch 24/100\n",
            "100/100 [==============================] - 0s 4ms/step - loss: 0.6851 - accuracy: 0.5700\n",
            "Epoch 25/100\n",
            "100/100 [==============================] - 0s 4ms/step - loss: 0.6851 - accuracy: 0.5700\n",
            "Epoch 26/100\n",
            "100/100 [==============================] - 0s 4ms/step - loss: 0.6851 - accuracy: 0.5700\n",
            "Epoch 27/100\n",
            "100/100 [==============================] - 0s 4ms/step - loss: 0.6850 - accuracy: 0.5700\n",
            "Epoch 28/100\n",
            "100/100 [==============================] - 0s 3ms/step - loss: 0.6851 - accuracy: 0.5700\n",
            "Epoch 29/100\n",
            "100/100 [==============================] - 0s 4ms/step - loss: 0.6850 - accuracy: 0.5700\n",
            "Epoch 30/100\n",
            "100/100 [==============================] - 0s 4ms/step - loss: 0.6851 - accuracy: 0.5700\n",
            "Epoch 31/100\n",
            "100/100 [==============================] - 0s 4ms/step - loss: 0.6849 - accuracy: 0.5700\n",
            "Epoch 32/100\n",
            "100/100 [==============================] - 0s 4ms/step - loss: 0.6851 - accuracy: 0.5700\n",
            "Epoch 33/100\n",
            "100/100 [==============================] - 0s 4ms/step - loss: 0.6851 - accuracy: 0.5700\n",
            "Epoch 34/100\n",
            "100/100 [==============================] - 1s 5ms/step - loss: 0.6852 - accuracy: 0.5700\n",
            "Epoch 35/100\n",
            "100/100 [==============================] - 1s 5ms/step - loss: 0.6851 - accuracy: 0.5700\n",
            "Epoch 36/100\n",
            "100/100 [==============================] - 1s 5ms/step - loss: 0.6851 - accuracy: 0.5700\n",
            "Epoch 37/100\n",
            "100/100 [==============================] - 0s 5ms/step - loss: 0.6851 - accuracy: 0.5700\n",
            "Epoch 38/100\n",
            "100/100 [==============================] - 0s 5ms/step - loss: 0.6851 - accuracy: 0.5700\n",
            "Epoch 39/100\n",
            "100/100 [==============================] - 0s 5ms/step - loss: 0.6851 - accuracy: 0.5700\n",
            "Epoch 40/100\n",
            "100/100 [==============================] - 1s 5ms/step - loss: 0.6851 - accuracy: 0.5700\n",
            "Epoch 41/100\n",
            "100/100 [==============================] - 0s 5ms/step - loss: 0.6851 - accuracy: 0.5700\n",
            "Epoch 42/100\n",
            "100/100 [==============================] - 0s 3ms/step - loss: 0.6851 - accuracy: 0.5700\n",
            "Epoch 43/100\n",
            "100/100 [==============================] - 0s 3ms/step - loss: 0.6850 - accuracy: 0.5700\n",
            "Epoch 44/100\n",
            "100/100 [==============================] - 0s 4ms/step - loss: 0.6847 - accuracy: 0.5700\n",
            "Epoch 45/100\n",
            "100/100 [==============================] - 0s 4ms/step - loss: 0.6851 - accuracy: 0.5700\n",
            "Epoch 46/100\n",
            "100/100 [==============================] - 0s 4ms/step - loss: 0.6851 - accuracy: 0.5700\n",
            "Epoch 47/100\n",
            "100/100 [==============================] - 0s 4ms/step - loss: 0.6851 - accuracy: 0.5700\n",
            "Epoch 48/100\n",
            "100/100 [==============================] - 0s 4ms/step - loss: 0.6851 - accuracy: 0.5700\n",
            "Epoch 49/100\n",
            "100/100 [==============================] - 0s 4ms/step - loss: 0.6851 - accuracy: 0.5700\n",
            "Epoch 50/100\n",
            "100/100 [==============================] - 0s 4ms/step - loss: 0.6851 - accuracy: 0.5700\n",
            "Epoch 51/100\n",
            "100/100 [==============================] - 0s 4ms/step - loss: 0.6851 - accuracy: 0.5700\n",
            "Epoch 52/100\n",
            "100/100 [==============================] - 0s 4ms/step - loss: 0.6851 - accuracy: 0.5700\n",
            "Epoch 53/100\n",
            "100/100 [==============================] - 0s 3ms/step - loss: 0.6850 - accuracy: 0.5700\n",
            "Epoch 54/100\n",
            "100/100 [==============================] - 0s 3ms/step - loss: 0.6849 - accuracy: 0.5700\n",
            "Epoch 55/100\n",
            "100/100 [==============================] - 0s 4ms/step - loss: 0.6851 - accuracy: 0.5700\n",
            "Epoch 56/100\n",
            "100/100 [==============================] - 0s 3ms/step - loss: 0.6850 - accuracy: 0.5700\n",
            "Epoch 57/100\n",
            "100/100 [==============================] - 0s 4ms/step - loss: 0.6848 - accuracy: 0.5700\n",
            "Epoch 58/100\n",
            "100/100 [==============================] - 0s 4ms/step - loss: 0.6851 - accuracy: 0.5700\n",
            "Epoch 59/100\n",
            "100/100 [==============================] - 0s 4ms/step - loss: 0.6847 - accuracy: 0.5700\n",
            "Epoch 60/100\n",
            "100/100 [==============================] - 0s 4ms/step - loss: 0.6851 - accuracy: 0.5700\n",
            "Epoch 61/100\n",
            "100/100 [==============================] - 0s 4ms/step - loss: 0.6849 - accuracy: 0.5700\n",
            "Epoch 62/100\n",
            "100/100 [==============================] - 0s 4ms/step - loss: 0.6851 - accuracy: 0.5700\n",
            "Epoch 63/100\n",
            "100/100 [==============================] - 0s 4ms/step - loss: 0.6851 - accuracy: 0.5700\n",
            "Epoch 64/100\n",
            "100/100 [==============================] - 0s 3ms/step - loss: 0.6849 - accuracy: 0.5700\n",
            "Epoch 65/100\n",
            "100/100 [==============================] - 0s 4ms/step - loss: 0.6850 - accuracy: 0.5700\n",
            "Epoch 66/100\n",
            "100/100 [==============================] - 0s 4ms/step - loss: 0.6851 - accuracy: 0.5700\n",
            "Epoch 67/100\n",
            "100/100 [==============================] - 0s 4ms/step - loss: 0.6851 - accuracy: 0.5700\n",
            "Epoch 68/100\n",
            "100/100 [==============================] - 0s 4ms/step - loss: 0.6851 - accuracy: 0.5700\n",
            "Epoch 69/100\n",
            "100/100 [==============================] - 0s 4ms/step - loss: 0.6850 - accuracy: 0.5700\n",
            "Epoch 70/100\n",
            "100/100 [==============================] - 0s 5ms/step - loss: 0.6850 - accuracy: 0.5700\n",
            "Epoch 71/100\n",
            "100/100 [==============================] - 1s 5ms/step - loss: 0.6850 - accuracy: 0.5700\n",
            "Epoch 72/100\n",
            "100/100 [==============================] - 0s 5ms/step - loss: 0.6851 - accuracy: 0.5700\n",
            "Epoch 73/100\n",
            "100/100 [==============================] - 1s 5ms/step - loss: 0.6849 - accuracy: 0.5700\n",
            "Epoch 74/100\n",
            "100/100 [==============================] - 0s 5ms/step - loss: 0.6850 - accuracy: 0.5700\n",
            "Epoch 75/100\n",
            "100/100 [==============================] - 1s 5ms/step - loss: 0.6851 - accuracy: 0.5700\n",
            "Epoch 76/100\n",
            "100/100 [==============================] - 0s 5ms/step - loss: 0.6851 - accuracy: 0.5700\n",
            "Epoch 77/100\n",
            "100/100 [==============================] - 0s 4ms/step - loss: 0.6850 - accuracy: 0.5700\n",
            "Epoch 78/100\n",
            "100/100 [==============================] - 0s 3ms/step - loss: 0.6851 - accuracy: 0.5700\n",
            "Epoch 79/100\n",
            "100/100 [==============================] - 0s 4ms/step - loss: 0.6850 - accuracy: 0.5700\n",
            "Epoch 80/100\n",
            "100/100 [==============================] - 0s 4ms/step - loss: 0.6851 - accuracy: 0.5700\n",
            "Epoch 81/100\n",
            "100/100 [==============================] - 0s 3ms/step - loss: 0.6850 - accuracy: 0.5700\n",
            "Epoch 82/100\n",
            "100/100 [==============================] - 0s 3ms/step - loss: 0.6849 - accuracy: 0.5700\n",
            "Epoch 83/100\n",
            "100/100 [==============================] - 0s 4ms/step - loss: 0.6851 - accuracy: 0.5700\n",
            "Epoch 84/100\n",
            "100/100 [==============================] - 0s 4ms/step - loss: 0.6851 - accuracy: 0.5700\n",
            "Epoch 85/100\n",
            "100/100 [==============================] - 0s 3ms/step - loss: 0.6851 - accuracy: 0.5700\n",
            "Epoch 86/100\n",
            "100/100 [==============================] - 0s 4ms/step - loss: 0.6849 - accuracy: 0.5700\n",
            "Epoch 87/100\n",
            "100/100 [==============================] - 0s 3ms/step - loss: 0.6848 - accuracy: 0.5700\n",
            "Epoch 88/100\n",
            "100/100 [==============================] - 0s 3ms/step - loss: 0.6851 - accuracy: 0.5700\n",
            "Epoch 89/100\n",
            "100/100 [==============================] - 0s 4ms/step - loss: 0.6851 - accuracy: 0.5700\n",
            "Epoch 90/100\n",
            "100/100 [==============================] - 0s 3ms/step - loss: 0.6851 - accuracy: 0.5700\n",
            "Epoch 91/100\n",
            "100/100 [==============================] - 0s 4ms/step - loss: 0.6850 - accuracy: 0.5700\n",
            "Epoch 92/100\n",
            "100/100 [==============================] - 0s 4ms/step - loss: 0.6850 - accuracy: 0.5700\n",
            "Epoch 93/100\n",
            "100/100 [==============================] - 0s 4ms/step - loss: 0.6848 - accuracy: 0.5700\n",
            "Epoch 94/100\n",
            "100/100 [==============================] - 0s 4ms/step - loss: 0.6850 - accuracy: 0.5700\n",
            "Epoch 95/100\n",
            "100/100 [==============================] - 0s 4ms/step - loss: 0.6850 - accuracy: 0.5700\n",
            "Epoch 96/100\n",
            "100/100 [==============================] - 0s 4ms/step - loss: 0.6851 - accuracy: 0.5700\n",
            "Epoch 97/100\n",
            "100/100 [==============================] - 0s 4ms/step - loss: 0.6850 - accuracy: 0.5700\n",
            "Epoch 98/100\n",
            "100/100 [==============================] - 0s 3ms/step - loss: 0.6851 - accuracy: 0.5700\n",
            "Epoch 99/100\n",
            "100/100 [==============================] - 0s 4ms/step - loss: 0.6851 - accuracy: 0.5700\n",
            "Epoch 100/100\n",
            "100/100 [==============================] - 0s 4ms/step - loss: 0.6849 - accuracy: 0.5700\n"
          ]
        },
        {
          "output_type": "execute_result",
          "data": {
            "text/plain": [
              "<matplotlib.legend.Legend at 0x7c54f8146410>"
            ]
          },
          "metadata": {},
          "execution_count": 717
        },
        {
          "output_type": "display_data",
          "data": {
            "text/plain": [
              "<Figure size 640x480 with 1 Axes>"
            ],
            "image/png": "[encoded data removed]"
          },
          "metadata": {}
        }
      ]
    },
    {
      "cell_type": "markdown",
      "source": [
        "# end"
      ],
      "metadata": {
        "id": "Tq39B1-VHXl0"
      }
    }
  ],
  "metadata": {
    "kernelspec": {
      "display_name": "Python 3",
      "name": "python3"
    },
    "language_info": {
      "codemirror_mode": {
        "name": "ipython",
        "version": 3
      },
      "file_extension": ".py",
      "mimetype": "text/x-python",
      "name": "python",
      "nbconvert_exporter": "python",
      "pygments_lexer": "ipython3",
      "version": "3.11.3"
    },
    "colab": {
      "provenance": [],
      "toc_visible": true,
      "gpuType": "T4"
    },
    "accelerator": "GPU"
  },
  "nbformat": 4,
  "nbformat_minor": 0
}