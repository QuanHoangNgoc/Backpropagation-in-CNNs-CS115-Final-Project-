{
  "cells": [
    {
      "cell_type": "markdown",
      "metadata": {
        "id": "bL6OVmBvhJUP"
      },
      "source": [
        "# sprint0: global"
      ]
    },
    {
      "cell_type": "code",
      "execution_count": 273,
      "metadata": {
        "id": "eCHUCnnOhJUS"
      },
      "outputs": [],
      "source": [
        "import numpy as np\n",
        "np.random.seed(42)"
      ]
    },
    {
      "cell_type": "code",
      "execution_count": 274,
      "metadata": {
        "id": "Lenc9DXvhJUV"
      },
      "outputs": [],
      "source": [
        "# libraries\n",
        "from collections import defaultdict\n",
        "import pandas as pd\n",
        "import matplotlib.pyplot as plt\n",
        "import tensorflow as tf\n",
        "from multiprocessing import Pool"
      ]
    },
    {
      "cell_type": "code",
      "execution_count": 275,
      "metadata": {
        "id": "CoWt9BLFhJUW"
      },
      "outputs": [],
      "source": [
        "# CONST\n",
        "RANDOM_STATE = 42"
      ]
    },
    {
      "cell_type": "code",
      "execution_count": 276,
      "metadata": {
        "id": "6TfAgz2phJUW"
      },
      "outputs": [],
      "source": [
        "# utils\n",
        "def fixRandomState(fixed_state):\n",
        "  np.random.seed(fixed_state)\n",
        "\n",
        "def exception(condition: bool, notification):\n",
        "  if(condition == False):\n",
        "    print(\"__exception__: \", notification)\n",
        "    assert(1 == 0)\n",
        "\n",
        "def verbose(flag: bool, verbose):\n",
        "  if(flag):\n",
        "    print(\"__verbose__: \", verbose)\n",
        "\n",
        "def note(note):\n",
        "  print(\"__note__: \", note)\n",
        "\n",
        "def hashNP(val: np) -> float:\n",
        "  return round(np.sqrt(np.sum(val**2)), 10), round(np.sum(val), 10)\n"
      ]
    },
    {
      "cell_type": "markdown",
      "metadata": {
        "id": "ecAXA5ZyhJUX"
      },
      "source": [
        "# sprint1: build layers class"
      ]
    },
    {
      "cell_type": "code",
      "source": [
        "# static attributies and methos\n",
        "AMPHA, INIT_LOC, INIT_STD = 1e-3, 0, 1e-2\n",
        "LAMDA = 0\n",
        "EPSILON = 1e-8"
      ],
      "metadata": {
        "id": "94BfMhWtv24I"
      },
      "execution_count": 277,
      "outputs": []
    },
    {
      "cell_type": "code",
      "source": [
        "BETA_1, BETA_2 = [0.9], [0.999]\n",
        "for t in range(10**7):\n",
        "  BETA_1.append(BETA_1[-1] * 0.9)\n",
        "  BETA_2.append(BETA_2[-1] * 0.999)\n",
        "BEAT_1, BETA_2 = np.array(BETA_1), np.array(BETA_2)"
      ],
      "metadata": {
        "id": "ySJBUO4OWVTt"
      },
      "execution_count": 278,
      "outputs": []
    },
    {
      "cell_type": "code",
      "source": [
        "def configAllLayers(ampha, init_loc, init_std):\n",
        "  AMPHA, INIT_LOC, INIT_STD = ampha, init_loc, init_std"
      ],
      "metadata": {
        "id": "4SmBlMHAhoNx"
      },
      "execution_count": 279,
      "outputs": []
    },
    {
      "cell_type": "markdown",
      "source": [
        "## Interface"
      ],
      "metadata": {
        "id": "Mp81pHZQheRo"
      }
    },
    {
      "cell_type": "code",
      "source": [
        "class LayerInterface:\n",
        "  def __init__(self) -> None:\n",
        "    self.parameters = np.array([])\n",
        "    self.input = np.array([])\n",
        "    self.loss_output = np.array([])\n",
        "\n",
        "  def set_parameters(self, val: np) -> None:\n",
        "    self.parameters = val.copy()\n",
        "  def set_input(self, val: np) -> None:\n",
        "    self.input = val.copy()\n",
        "  def set_loss_output(self, val: np) -> None:\n",
        "    self.loss_output = val.copy()\n",
        "\n",
        "  def getParameters(self) -> tuple:\n",
        "    return self.parameters.shape, hashNP(self.parameters)\n",
        "  def getInput(self) -> tuple:\n",
        "    return self.input.shape, hashNP(self.input)\n",
        "  def getLossOutput(self) -> tuple:\n",
        "    return self.loss_output.shape, hashNP(self.loss_output)\n",
        "\n",
        "  def transform(self, *argv):\n",
        "    pass\n",
        "  def cap(self, *argv):\n",
        "    pass\n",
        "  def back(self, *argv):\n",
        "    pass\n",
        "  def update(self, *argv):\n",
        "    pass\n",
        "\n",
        "  def init_method(self, size_parameters: tuple, fixed_state: int = -1) -> np:\n",
        "    self.M = np.zeros(shape = size_parameters)\n",
        "    self.V = np.zeros(shape = size_parameters)\n",
        "    self.cnt = 0\n",
        "\n",
        "    if(fixed_state != -1):\n",
        "      fixRandomState(fixed_state)\n",
        "    return np.random.normal(loc = INIT_LOC, scale = INIT_STD, size = size_parameters)\n",
        "\n",
        "  def update_method(self, parameters: np, gradient: np) -> np:\n",
        "    g = gradient + LAMDA * parameters\n",
        "\n",
        "    __m, __v = self.M, self.V\n",
        "    self.M = BETA_1[0] * __m + (1-BETA_1[0]) * g\n",
        "    self.V = BETA_2[0] * __v + (1-BETA_2[0]) * (g**2)\n",
        "\n",
        "    self.cnt += 1\n",
        "    t = self.cnt\n",
        "    m = self.M / (1-BETA_1[t])\n",
        "    v = self.V / (1-BETA_2[t])\n",
        "    return parameters - AMPHA * m / (np.sqrt(v) + EPSILON)"
      ],
      "metadata": {
        "id": "06dJc99tk0dh"
      },
      "execution_count": 280,
      "outputs": []
    },
    {
      "cell_type": "markdown",
      "source": [
        "## Padding"
      ],
      "metadata": {
        "id": "T7l98Bi5hhs_"
      }
    },
    {
      "cell_type": "code",
      "execution_count": 281,
      "metadata": {
        "id": "obHxEcowhJUY"
      },
      "outputs": [],
      "source": [
        "class Padding(LayerInterface):\n",
        "  def __init__(self, a: int, b: int, c: int, d: int) -> None:\n",
        "    super().__init__()\n",
        "    self.a, self.b, self.c, self.d = a, b, c, d\n",
        "\n",
        "  def transform(self, one_point: np) -> np:\n",
        "    self.set_input(one_point)\n",
        "    z = one_point.copy()\n",
        "    z = tf.convert_to_tensor(z, np.float64)\n",
        "    padding = tf.constant([[self.a, self.b], [self.c, self.d]])\n",
        "    z = tf.pad(z, padding, mode ='CONSTANT')\n",
        "    z = z.numpy()\n",
        "    return z\n",
        "\n",
        "  def back(self, one_output: np) -> np:\n",
        "    self.set_loss_output(one_output)\n",
        "    out = one_output.copy()\n",
        "    return out[self.a : out.shape[0] - self.b, self.c : out.shape[1] - self.d]\n"
      ]
    },
    {
      "cell_type": "markdown",
      "source": [
        "## Convolution"
      ],
      "metadata": {
        "id": "R5vAGEdKi0T8"
      }
    },
    {
      "cell_type": "code",
      "execution_count": 282,
      "metadata": {
        "id": "y7gRioORhJUZ"
      },
      "outputs": [],
      "source": [
        "class Convolution(LayerInterface):\n",
        "  def __init__(self, fixed_state = RANDOM_STATE, size: tuple = (1, 1)) -> None:\n",
        "    super().__init__()\n",
        "    self.fixed_state = fixed_state\n",
        "    self.size = size\n",
        "    self.filter = self.init_method(self.size, self.fixed_state)\n",
        "\n",
        "  def transform(self, one_point: np) -> np:\n",
        "    self.set_input(one_point)\n",
        "    z = self.conv_operator(one_point, self.filter)\n",
        "    return z\n",
        "\n",
        "  def cap(self, one_point: np) -> None:\n",
        "    self.one_point = one_point.copy()\n",
        "\n",
        "  def back(self, one_output: np) -> np:\n",
        "    self.set_loss_output(one_output)\n",
        "    dF = self.conv_operator(self.one_point, one_output)\n",
        "    out = Padding(self.size[0]-1, self.size[0]-1, self.size[1]-1, self.size[1]-1).transform(one_output)\n",
        "    dX = self.conv_operator(out, self.rotate_180(self.filter))\n",
        "    return dX, dF\n",
        "\n",
        "  def update(self, gradient: np) -> None:\n",
        "    self.filter = self.update_method(self.filter, gradient)\n",
        "    self.set_parameters(self.filter)\n",
        "\n",
        "  def conv_operator(self, X: np, F: np) -> np:\n",
        "    a, b = F.shape\n",
        "    u, v = X.shape[0] - a + 1, X.shape[1] - b + 1\n",
        "    z = np.zeros((u, v))\n",
        "    for i in range(u):\n",
        "      for j in range(v):\n",
        "        z[i, j] = np.sum(X[i : i + a, j : j + b] * F)\n",
        "    return z\n",
        "\n",
        "  def rotate_180(self, A: np) -> np:\n",
        "    return np.array([row[::-1] for row in A[::-1]])\n"
      ]
    },
    {
      "cell_type": "code",
      "source": [
        "class MultiConvolution(LayerInterface):\n",
        "  def __init__(self) -> None:\n",
        "    pass"
      ],
      "metadata": {
        "id": "WZuMX8-Mli6P"
      },
      "execution_count": 283,
      "outputs": []
    },
    {
      "cell_type": "markdown",
      "source": [
        "## Pooling"
      ],
      "metadata": {
        "id": "sEKggZtap8yl"
      }
    },
    {
      "cell_type": "code",
      "source": [
        "class Pooling(LayerInterface):\n",
        "  def __init__(self) -> None:\n",
        "    super().__init__()\n",
        "    pass\n",
        "\n",
        "  def transform(self, one_point: np, mode: str) -> np:\n",
        "    exception(one_point.shape[0] % self.size[0] == 0, \"Pooling > transform: size of pooling not valid {} {}\".format(one_point.shape, self.size))\n",
        "    exception(one_point.shape[1] % self.size[1] == 0, \"Pooling > transform: size of pooling not valid {} {}\".format(one_point.shape, self.size))\n",
        "\n",
        "    self.set_input(one_point)\n",
        "    z = np.zeros((one_point.shape[0] // self.size[0], one_point.shape[1] // self.size[1]))\n",
        "    for i in range(0, one_point.shape[0], self.size[0]):\n",
        "      for j in range(0, one_point.shape[1], self.size[1]):\n",
        "        if(mode == 'mean'):\n",
        "          z[i // self.size[0], j // self.size[1]] = np.mean(one_point[i : i + self.size[0], j : j + self.size[1]])\n",
        "        elif(mode == 'max'):\n",
        "          z[i // self.size[0], j // self.size[1]] = np.max(one_point[i : i + self.size[0], j : j + self.size[1]])\n",
        "    return z\n",
        "\n",
        "  def zoom(self, one_output: np) -> np:\n",
        "    zoom = np.zeros((one_output.shape[0] * self.size[0], one_output.shape[1] * self.size[1]))\n",
        "    for i in range(zoom.shape[0]):\n",
        "      for j in range(zoom.shape[1]):\n",
        "        zoom[i, j] = one_output[i // self.size[0], j // self.size[1]]\n",
        "    return zoom\n"
      ],
      "metadata": {
        "id": "F6eRsrom2fqF"
      },
      "execution_count": 284,
      "outputs": []
    },
    {
      "cell_type": "code",
      "source": [
        "class AveragePooling(Pooling):\n",
        "  def __init__(self, size: tuple = (1, 1)) -> None:\n",
        "    super().__init__()\n",
        "    self.size = size\n",
        "\n",
        "  def transform(self, one_point: np) -> np:\n",
        "    self.set_input(one_point)\n",
        "    return super().transform(one_point, 'mean')\n",
        "\n",
        "  def back(self, one_output: np) -> np:\n",
        "    self.set_loss_output(one_output)\n",
        "    return self.zoom(one_output) / (self.size[0] * self.size[1])\n"
      ],
      "metadata": {
        "id": "OQwXfetpmPMs"
      },
      "execution_count": 285,
      "outputs": []
    },
    {
      "cell_type": "code",
      "source": [
        "class MaxPooling(Pooling):\n",
        "  def __init__(self, size: tuple = (1, 1)) -> None:\n",
        "    super().__init__()\n",
        "    self.size = size\n",
        "\n",
        "  def transform(self, one_point: np) -> np:\n",
        "    self.set_input(one_point)\n",
        "    return super().transform(one_point, 'max')\n",
        "\n",
        "  def cap(self, one_point: np) -> np:\n",
        "    exception(one_point.shape[0] % self.size[0] == 0, \"Pooling > transform: size of pooling not valid {} {}\".format(one_point.shape, self.size))\n",
        "    exception(one_point.shape[1] % self.size[1] == 0, \"Pooling > transform: size of pooling not valid {} {}\".format(one_point.shape, self.size))\n",
        "\n",
        "    self.mask = np.zeros((one_point.shape[0], one_point.shape[1]))\n",
        "    for i in range(0, one_point.shape[0], self.size[0]):\n",
        "      for j in range(0, one_point.shape[1], self.size[1]):\n",
        "        li, lj = i, j\n",
        "        for k in range(i, i + self.size[0]):\n",
        "          for t in range(j, j + self.size[1]):\n",
        "            if(one_point[k][t] > one_point[li][lj]):\n",
        "              li, lj = k, t\n",
        "        self.mask[li][lj] = 1\n",
        "\n",
        "  def back(self, one_output: np) -> np:\n",
        "    self.set_loss_output(one_output)\n",
        "    return self.zoom(one_output) * self.mask\n"
      ],
      "metadata": {
        "id": "ip5lBZeZ1F8J"
      },
      "execution_count": 286,
      "outputs": []
    },
    {
      "cell_type": "markdown",
      "source": [
        "## Flatten"
      ],
      "metadata": {
        "id": "0_FhoYdu8DVf"
      }
    },
    {
      "cell_type": "code",
      "source": [
        "class Flatten(LayerInterface):\n",
        "  def __init__(self):\n",
        "    super().__init__()\n",
        "    pass\n",
        "\n",
        "  def transform(self, one_point: np) -> np:\n",
        "    self.set_input(one_point)\n",
        "    z = one_point.copy()\n",
        "    length = 1\n",
        "    for i in range(len(z.shape)):\n",
        "      length *= z.shape[i]\n",
        "    return z.reshape(length, 1)\n",
        "\n",
        "  def cap(self, one_point: np) -> None:\n",
        "    self.shape_one_point = one_point.shape\n",
        "\n",
        "  def back(self, one_output: np) -> np:\n",
        "    self.set_loss_output(one_output)\n",
        "    out = one_output.copy()\n",
        "    out = np.reshape(out, self.shape_one_point)\n",
        "    return out\n"
      ],
      "metadata": {
        "id": "ZWr9X9YlGC9G"
      },
      "execution_count": 287,
      "outputs": []
    },
    {
      "cell_type": "markdown",
      "source": [
        "## Fully Connected"
      ],
      "metadata": {
        "id": "rSG65FhwGDre"
      }
    },
    {
      "cell_type": "code",
      "source": [
        "class Dense(LayerInterface):\n",
        "  def __init__(self, fixed_state = RANDOM_STATE, size_output: int = 1) -> None:\n",
        "    super().__init__()\n",
        "    self.fixed_state = fixed_state\n",
        "    self.size_output = size_output\n",
        "    self.W = self.init_method((self.size_output, 1), self.fixed_state)\n",
        "\n",
        "  def check_shape_to_init_method(self, one_point: np) -> None:\n",
        "    if(self.W.shape != (self.size_output, one_point.shape[0] + 1)):\n",
        "      self.W = self.init_method((self.size_output, one_point.shape[0] + 1), self.fixed_state)\n",
        "\n",
        "  def transform(self, one_point: np) -> np:\n",
        "    self.set_input(one_point)\n",
        "    self.check_shape_to_init_method(one_point)\n",
        "    z = one_point.copy()\n",
        "    z =  np.append(z, np.array([[1]]), axis = 0) #$ append 1 at last\n",
        "    return np.matmul(self.W, z)\n",
        "\n",
        "  def cap(self, one_point: np) -> None:\n",
        "    self.check_shape_to_init_method(one_point)\n",
        "    z = one_point.copy()\n",
        "    self.append_one_point = np.append(z, np.array([[1]]), axis = 0)  #$ append 1 at last\n",
        "\n",
        "  def back(self, one_output: np) -> np:\n",
        "    self.set_loss_output(one_output)\n",
        "    out = one_output.copy()\n",
        "    dW = np.matmul(out, self.append_one_point.T)\n",
        "    dX = np.matmul(self.W.T, out)\n",
        "    return dX[:-1], dW\n",
        "\n",
        "  def update(self, gradient: np) -> np:\n",
        "    self.W = self.update_method(self.W, gradient)\n",
        "    self.set_parameters(self.W)"
      ],
      "metadata": {
        "id": "Yad43eMNb8D6"
      },
      "execution_count": 288,
      "outputs": []
    },
    {
      "cell_type": "markdown",
      "source": [
        "## Activation"
      ],
      "metadata": {
        "id": "lt3vnZJAqVXb"
      }
    },
    {
      "cell_type": "code",
      "source": [
        "class Activation(LayerInterface):\n",
        "  def __init__(self) -> None:\n",
        "    super().__init__()\n",
        "    pass"
      ],
      "metadata": {
        "id": "PIKmX97sqXEv"
      },
      "execution_count": 289,
      "outputs": []
    },
    {
      "cell_type": "code",
      "source": [
        "class ReLU(Activation):\n",
        "  def __init__(self) -> None:\n",
        "    super().__init__()\n",
        "    self.rate = 0\n",
        "    pass\n",
        "\n",
        "  def transform(self, one_point: np) -> np:\n",
        "    self.set_input(one_point)\n",
        "    return self.relu(one_point)\n",
        "\n",
        "  def cap(self, one_point: np) -> None:\n",
        "    self.mask = np.where(one_point >= 0, 1, self.rate)\n",
        "\n",
        "  def back(self, one_output: np) -> np:\n",
        "    self.set_loss_output(one_output)\n",
        "    return one_output.copy() * self.mask\n",
        "\n",
        "  def relu(self, one_point: np) -> np:\n",
        "    x = one_point.copy()\n",
        "    return np.where(x >= 0, x, self.rate * x)\n"
      ],
      "metadata": {
        "id": "U9nNvuNyqd5R"
      },
      "execution_count": 290,
      "outputs": []
    },
    {
      "cell_type": "code",
      "source": [
        "class Sigmoid(Activation):\n",
        "  def __init__(self) -> None:\n",
        "    super().__init__()\n",
        "    pass\n",
        "\n",
        "  def transform(self, one_point: np) -> np:\n",
        "    self.set_input(one_point)\n",
        "    return self.sigmoid(one_point)\n",
        "\n",
        "  def cap(self, one_point: np) -> None:\n",
        "    self.one_point = one_point.copy()\n",
        "\n",
        "  def back(self, one_output: np) -> np:\n",
        "    self.set_loss_output(one_output)\n",
        "    sig = self.sigmoid(self.one_point)\n",
        "    return one_output.copy() * sig * (1 - sig)\n",
        "\n",
        "  def sigmoid(self, x: np) -> np:\n",
        "    return 1 / (1 + np.exp(-x))\n"
      ],
      "metadata": {
        "id": "SVxgA5vstQE_"
      },
      "execution_count": 291,
      "outputs": []
    },
    {
      "cell_type": "markdown",
      "source": [
        "## Loss (final layer)"
      ],
      "metadata": {
        "id": "7UyzuBaq4WB4"
      }
    },
    {
      "cell_type": "code",
      "source": [
        "class Loss(LayerInterface):\n",
        "  def __init__(self) -> None:\n",
        "    super().__init__()\n",
        "    pass"
      ],
      "metadata": {
        "id": "rlAzjZDJ3Ute"
      },
      "execution_count": 292,
      "outputs": []
    },
    {
      "cell_type": "code",
      "source": [
        "class StableBinaryCrossEntropy(Loss):\n",
        "  def __init__(self) -> None:\n",
        "    super().__init__()\n",
        "    pass\n",
        "\n",
        "  def transform(self, one_point: np, one_y: np) -> np:\n",
        "    self.set_input(one_point)\n",
        "    z = one_point.copy()\n",
        "    y = one_y.copy()\n",
        "    # return -y * np.log(a) -(1-y) * np.log(1-a)\n",
        "    # print(\"loss: \", -(-y * np.log(1 + np.exp(-z)) + (1 - y) * (-z - np.log(1 + np.exp(-z)))))\n",
        "    return -(-y * np.log(1 + np.exp(-z)) + (1 - y) * (-z - np.log(1 + np.exp(-z))))\n",
        "\n",
        "  def cap(self, one_point: np, one_y: np) -> None:\n",
        "    self.one_point = one_point.copy()\n",
        "    self.one_y = one_y.copy()\n",
        "\n",
        "  def back(self) -> np:\n",
        "    z = self.one_point\n",
        "    y = self.one_y\n",
        "    a = 1 / (1 + np.exp(-z))\n",
        "    return a - y\n"
      ],
      "metadata": {
        "id": "IigKvAJt4YiM"
      },
      "execution_count": 293,
      "outputs": []
    },
    {
      "cell_type": "markdown",
      "source": [
        "# sprint2: build Network class"
      ],
      "metadata": {
        "id": "W35JHH5IpBQA"
      }
    },
    {
      "cell_type": "code",
      "source": [
        "class Network:\n",
        "  def __init__(self) -> None:\n",
        "    self.network = []\n",
        "\n",
        "  def add(self, layers) -> None:\n",
        "    if(isinstance(layers, list)):\n",
        "      self.network.extend(layers)\n",
        "    else:\n",
        "      self.network.append(layers)\n",
        "\n",
        "  def addLoss(self, loss_layer: Loss) -> None:\n",
        "    exception(isinstance(loss_layer, Loss), \"Network > addLoss: not is a Loss layer\")\n",
        "\n",
        "    self.network.append(loss_layer)\n",
        "\n",
        "###################################################################################################\n",
        "  def forward_operator(self, one_point: np, df) -> np:\n",
        "    z = one_point.copy()\n",
        "    for i, layer in enumerate(self.network[:-1]): #$ not have loss\n",
        "      layer.cap(z)\n",
        "      z = layer.transform(z).copy()\n",
        "      # catch\n",
        "      df['layer {}'.format(i)].append(layer.getInput())\n",
        "      df['layer {}'.format(i)].append(layer.getParameters())\n",
        "    return z\n",
        "\n",
        "  def backprop_operator(self, one_output: np, df) -> np:\n",
        "    out = one_output.copy()\n",
        "    for i in range(len(self.network)-2, -1, -1):\n",
        "      layer = self.network[i]\n",
        "      der = layer.back(out)\n",
        "      if(isinstance(der, tuple)):\n",
        "        out = der[0]\n",
        "        layer.update(der[1])\n",
        "      else:\n",
        "        out = der\n",
        "      # catch\n",
        "      df['layer {}'.format(i)].append(layer.getLossOutput())\n",
        "      df['layer {}'.format(i)].append(layer.getParameters())\n",
        "    return out\n",
        "\n",
        "###################################################################################################\n",
        "  def fit_one_point(self, one_point: np, one_y: np, noisy = False) -> np:\n",
        "    df = defaultdict(list) # catch\n",
        "    z = self.forward_operator(one_point, df) # forward\n",
        "    self.network[-1].cap(z, one_y)\n",
        "    loss_value = round(np.sum(self.network[-1].transform(z, one_y)), 6) # loss\n",
        "    out = self.network[-1].back() # backprop\n",
        "    self.backprop_operator(out, df)\n",
        "\n",
        "    df['row meaning'].extend([\"Hash(input)\", \"before Hash(params)\", \"Hash(dL/douput)\", \"after Hash(params)\"])\n",
        "    self.df = pd.DataFrame(df)\n",
        "    if(noisy):\n",
        "      verbose(noisy, \"Network > fit_one_point: \")\n",
        "      print(self.df)\n",
        "      print(\"z_lass: \", z)\n",
        "      print(\"loss_value: \", loss_value)\n",
        "      print(\"dL/dz: \", out)\n",
        "    return loss_value\n",
        "\n",
        "  def fit(self, set_points: np, set_y: np, num_epoch: int = 100, noisy = False) -> None:\n",
        "    exception(set_points.shape[0] == set_y.shape[0], \"Network > fit_set_points: size of sample {} {}\".format(set_points.shape, set_y.shape))\n",
        "\n",
        "    self.mean_loss = []\n",
        "    for _ in range(num_epoch):\n",
        "      mean_loss = []\n",
        "      for i, one_point in enumerate(set_points):\n",
        "        one_y = set_y[i]\n",
        "        loss_value = self.fit_one_point(one_point, one_y, noisy = False)\n",
        "        mean_loss.append(loss_value)\n",
        "        # return #!!!\n",
        "      mean_loss = np.mean(mean_loss)\n",
        "      if(noisy):\n",
        "        verbose(noisy, \"Network > fit > (epoch) = ({}): mean_loss_iteration_in_epoch = {}\".format(_, mean_loss))\n",
        "      self.mean_loss.append(mean_loss)\n",
        "    # return self.mean_loss\n",
        "\n",
        "###################################################################################################\n",
        "  def getOutputLayer(self, one_point: np, index: int, noisy = False) -> np:\n",
        "    z = one_point.copy()\n",
        "    for i, layer in enumerate(self.network[:index+1]):\n",
        "      z = layer.transform(z).copy()\n",
        "      if(noisy):\n",
        "        verbose(noisy, \"Network > getOutputLayer > (layer) = ({}): \".format(i))\n",
        "        print(\"Hash(input): \", layer.getInput())\n",
        "        print(\"Hash(params): \", layer.getParameters())\n",
        "        print(\"Hash(output): \", hashNP(z))\n",
        "    return z\n",
        "\n",
        "  def predict(self, set_points: np) -> np:\n",
        "    predictions = np.array([])\n",
        "    for i, one_point in enumerate(set_points):\n",
        "      predictions = np.append(predictions, self.getOutputLayer(one_point, len(self.network)-2))\n",
        "    return predictions\n"
      ],
      "metadata": {
        "id": "haOQ2SHspEp7"
      },
      "execution_count": 294,
      "outputs": []
    },
    {
      "cell_type": "markdown",
      "source": [
        "#sprint3: config and architech"
      ],
      "metadata": {
        "id": "aXXX6BBFgHtu"
      }
    },
    {
      "cell_type": "code",
      "source": [
        "net = Network()\n",
        "net.add([Convolution(size = (7, 7)), ReLU()])\n",
        "net.add([Convolution(size = (3, 3)), ReLU()])\n",
        "\n",
        "net.add([MaxPooling(size = (2, 2))])\n",
        "\n",
        "net.add(Flatten())\n",
        "\n",
        "net.add([Dense(size_output = 16), ReLU()])\n",
        "net.add([Dense(size_output = 8), ReLU()])\n",
        "\n",
        "net.add(Dense(size_output = 1))\n",
        "net.addLoss(StableBinaryCrossEntropy())"
      ],
      "metadata": {
        "id": "X4-2IN9JBUQo"
      },
      "execution_count": 295,
      "outputs": []
    },
    {
      "cell_type": "markdown",
      "source": [
        "# sprint4: data"
      ],
      "metadata": {
        "id": "eBFG7DO9RfWw"
      }
    },
    {
      "cell_type": "code",
      "source": [
        "from keras.datasets import mnist"
      ],
      "metadata": {
        "id": "u431sT1vQlgd"
      },
      "execution_count": 296,
      "outputs": []
    },
    {
      "cell_type": "markdown",
      "source": [
        "- load data"
      ],
      "metadata": {
        "id": "yHGJBvv4-RfL"
      }
    },
    {
      "cell_type": "code",
      "source": [
        "# load data\n",
        "(x_in, y_in), (x_out, y_out) = mnist.load_data()"
      ],
      "metadata": {
        "id": "O4IrUxkWRMf_"
      },
      "execution_count": 297,
      "outputs": []
    },
    {
      "cell_type": "code",
      "source": [
        "# print(x_in)\n",
        "print(y_in)\n",
        "# print(x_out)\n",
        "print(y_out)"
      ],
      "metadata": {
        "colab": {
          "base_uri": "https://localhost:8080/"
        },
        "id": "A65Hw2m08s97",
        "outputId": "7d7d9548-0b4d-49ab-e699-ef863957ebc3"
      },
      "execution_count": 298,
      "outputs": [
        {
          "output_type": "stream",
          "name": "stdout",
          "text": [
            "[5 0 4 ... 5 6 8]\n",
            "[7 2 1 ... 4 5 6]\n"
          ]
        }
      ]
    },
    {
      "cell_type": "markdown",
      "source": [
        "- select data"
      ],
      "metadata": {
        "id": "rDp7b03E-MZ6"
      }
    },
    {
      "cell_type": "code",
      "source": [
        "indexing = np.where((y_in == 0) | (y_in == 1))\n",
        "y_in = y_in[indexing]\n",
        "x_in = x_in[indexing]\n",
        "y_in"
      ],
      "metadata": {
        "colab": {
          "base_uri": "https://localhost:8080/"
        },
        "id": "0TFhLoBZS8U0",
        "outputId": "d1533df5-ea09-49c9-d0ac-b11383427cfb"
      },
      "execution_count": 299,
      "outputs": [
        {
          "output_type": "execute_result",
          "data": {
            "text/plain": [
              "array([0, 1, 1, ..., 1, 0, 1], dtype=uint8)"
            ]
          },
          "metadata": {},
          "execution_count": 299
        }
      ]
    },
    {
      "cell_type": "code",
      "source": [
        "indexing = np.where((y_out == 0) | (y_out == 1))\n",
        "y_out = y_out[indexing]\n",
        "x_out = x_out[indexing]\n",
        "y_out"
      ],
      "metadata": {
        "colab": {
          "base_uri": "https://localhost:8080/"
        },
        "id": "I_O0LISbTJpA",
        "outputId": "019ecbac-4a7c-4265-bee4-5cccaf8d6aae"
      },
      "execution_count": 300,
      "outputs": [
        {
          "output_type": "execute_result",
          "data": {
            "text/plain": [
              "array([1, 0, 1, ..., 1, 0, 1], dtype=uint8)"
            ]
          },
          "metadata": {},
          "execution_count": 300
        }
      ]
    },
    {
      "cell_type": "code",
      "source": [
        "y_in = y_in[:100]\n",
        "x_in = x_in[:100]\n",
        "y_out = y_out[:100]\n",
        "x_out = x_out[:100]"
      ],
      "metadata": {
        "id": "0VTwZzjoAUUL"
      },
      "execution_count": 301,
      "outputs": []
    },
    {
      "cell_type": "markdown",
      "source": [
        "- cast type and shape"
      ],
      "metadata": {
        "id": "x513aswt-Z1V"
      }
    },
    {
      "cell_type": "code",
      "source": [
        "print(type(x_in), x_in.shape)\n",
        "print(type(x_out), x_out.shape)\n",
        "print(type(y_in), y_in.shape)\n",
        "print(type(y_out), y_out.shape)"
      ],
      "metadata": {
        "colab": {
          "base_uri": "https://localhost:8080/"
        },
        "id": "42OWSJ4e9ztu",
        "outputId": "02690cfd-e4f4-4e5a-b6fb-582d2911479f"
      },
      "execution_count": 302,
      "outputs": [
        {
          "output_type": "stream",
          "name": "stdout",
          "text": [
            "<class 'numpy.ndarray'> (100, 28, 28)\n",
            "<class 'numpy.ndarray'> (100, 28, 28)\n",
            "<class 'numpy.ndarray'> (100,)\n",
            "<class 'numpy.ndarray'> (100,)\n"
          ]
        }
      ]
    },
    {
      "cell_type": "markdown",
      "source": [
        "- observe data"
      ],
      "metadata": {
        "id": "SZcNu47F-ln7"
      }
    },
    {
      "cell_type": "code",
      "source": [
        "print(\"#image 1: \", np.sum(y_in == 1))\n",
        "print(\"#image 0: \", np.sum(y_in == 0))\n",
        "print(\"#image: \", y_in.shape)"
      ],
      "metadata": {
        "colab": {
          "base_uri": "https://localhost:8080/"
        },
        "id": "9sq04eH0-odB",
        "outputId": "12db1a4b-adb4-4f29-d8f2-a4da1d93fae3"
      },
      "execution_count": 303,
      "outputs": [
        {
          "output_type": "stream",
          "name": "stdout",
          "text": [
            "#image 1:  57\n",
            "#image 0:  43\n",
            "#image:  (100,)\n"
          ]
        }
      ]
    },
    {
      "cell_type": "markdown",
      "source": [
        "#sprint5: fitting and testing"
      ],
      "metadata": {
        "id": "8axnVMtw8guL"
      }
    },
    {
      "cell_type": "markdown",
      "source": [
        "- fit"
      ],
      "metadata": {
        "id": "XjVEcWlqir-U"
      }
    },
    {
      "cell_type": "code",
      "source": [
        "num_epoch = 100\n",
        "net.fit(x_in, y_in, num_epoch = num_epoch, noisy = True)"
      ],
      "metadata": {
        "id": "A1hGjYi5Tscc",
        "colab": {
          "base_uri": "https://localhost:8080/"
        },
        "outputId": "29b93a2b-e4c3-4965-d8c4-6f4cdbc02d6d"
      },
      "execution_count": 304,
      "outputs": [
        {
          "output_type": "stream",
          "name": "stdout",
          "text": [
            "__verbose__:  Network > fit > (epoch) = (0): mean_loss_iteration_in_epoch = -53.09062389999999\n",
            "__verbose__:  Network > fit > (epoch) = (1): mean_loss_iteration_in_epoch = -8.68053658\n",
            "__verbose__:  Network > fit > (epoch) = (2): mean_loss_iteration_in_epoch = -1.29619593\n",
            "__verbose__:  Network > fit > (epoch) = (3): mean_loss_iteration_in_epoch = 0.09994266000000002\n",
            "__verbose__:  Network > fit > (epoch) = (4): mean_loss_iteration_in_epoch = 0.15727287\n",
            "__verbose__:  Network > fit > (epoch) = (5): mean_loss_iteration_in_epoch = 0.18555332\n",
            "__verbose__:  Network > fit > (epoch) = (6): mean_loss_iteration_in_epoch = 0.19401263000000005\n",
            "__verbose__:  Network > fit > (epoch) = (7): mean_loss_iteration_in_epoch = 0.19486743\n",
            "__verbose__:  Network > fit > (epoch) = (8): mean_loss_iteration_in_epoch = 0.19218425999999997\n",
            "__verbose__:  Network > fit > (epoch) = (9): mean_loss_iteration_in_epoch = 0.18770008000000002\n",
            "__verbose__:  Network > fit > (epoch) = (10): mean_loss_iteration_in_epoch = 0.18227481999999998\n",
            "__verbose__:  Network > fit > (epoch) = (11): mean_loss_iteration_in_epoch = 0.042718809999999975\n",
            "__verbose__:  Network > fit > (epoch) = (12): mean_loss_iteration_in_epoch = 0.15758706000000003\n",
            "__verbose__:  Network > fit > (epoch) = (13): mean_loss_iteration_in_epoch = 0.15730191999999998\n",
            "__verbose__:  Network > fit > (epoch) = (14): mean_loss_iteration_in_epoch = 0.15392331999999997\n",
            "__verbose__:  Network > fit > (epoch) = (15): mean_loss_iteration_in_epoch = 0.14940509999999999\n",
            "__verbose__:  Network > fit > (epoch) = (16): mean_loss_iteration_in_epoch = 0.14442187\n",
            "__verbose__:  Network > fit > (epoch) = (17): mean_loss_iteration_in_epoch = 0.13927838999999997\n",
            "__verbose__:  Network > fit > (epoch) = (18): mean_loss_iteration_in_epoch = 0.1341277\n",
            "__verbose__:  Network > fit > (epoch) = (19): mean_loss_iteration_in_epoch = 0.12905248999999996\n",
            "__verbose__:  Network > fit > (epoch) = (20): mean_loss_iteration_in_epoch = 0.12409831\n",
            "__verbose__:  Network > fit > (epoch) = (21): mean_loss_iteration_in_epoch = 0.11929025999999997\n",
            "__verbose__:  Network > fit > (epoch) = (22): mean_loss_iteration_in_epoch = 0.1146418\n",
            "__verbose__:  Network > fit > (epoch) = (23): mean_loss_iteration_in_epoch = 0.11015993\n",
            "__verbose__:  Network > fit > (epoch) = (24): mean_loss_iteration_in_epoch = 0.10584676\n",
            "__verbose__:  Network > fit > (epoch) = (25): mean_loss_iteration_in_epoch = 0.10170095\n",
            "__verbose__:  Network > fit > (epoch) = (26): mean_loss_iteration_in_epoch = 0.09771974000000001\n",
            "__verbose__:  Network > fit > (epoch) = (27): mean_loss_iteration_in_epoch = 0.09389875\n",
            "__verbose__:  Network > fit > (epoch) = (28): mean_loss_iteration_in_epoch = 0.09023299\n",
            "__verbose__:  Network > fit > (epoch) = (29): mean_loss_iteration_in_epoch = 0.08671701999999999\n",
            "__verbose__:  Network > fit > (epoch) = (30): mean_loss_iteration_in_epoch = 0.08334551000000001\n",
            "__verbose__:  Network > fit > (epoch) = (31): mean_loss_iteration_in_epoch = 0.08011308999999998\n",
            "__verbose__:  Network > fit > (epoch) = (32): mean_loss_iteration_in_epoch = 0.07701423\n",
            "__verbose__:  Network > fit > (epoch) = (33): mean_loss_iteration_in_epoch = 0.07404356000000001\n",
            "__verbose__:  Network > fit > (epoch) = (34): mean_loss_iteration_in_epoch = 0.07119553\n",
            "__verbose__:  Network > fit > (epoch) = (35): mean_loss_iteration_in_epoch = 0.06846469000000002\n",
            "__verbose__:  Network > fit > (epoch) = (36): mean_loss_iteration_in_epoch = 0.06584606\n",
            "__verbose__:  Network > fit > (epoch) = (37): mean_loss_iteration_in_epoch = 0.06333472999999999\n",
            "__verbose__:  Network > fit > (epoch) = (38): mean_loss_iteration_in_epoch = 0.06092601000000001\n",
            "__verbose__:  Network > fit > (epoch) = (39): mean_loss_iteration_in_epoch = 0.058615310000000004\n",
            "__verbose__:  Network > fit > (epoch) = (40): mean_loss_iteration_in_epoch = 0.05639837999999999\n",
            "__verbose__:  Network > fit > (epoch) = (41): mean_loss_iteration_in_epoch = 0.05427107\n",
            "__verbose__:  Network > fit > (epoch) = (42): mean_loss_iteration_in_epoch = 0.05222948000000001\n",
            "__verbose__:  Network > fit > (epoch) = (43): mean_loss_iteration_in_epoch = 0.05026971\n",
            "__verbose__:  Network > fit > (epoch) = (44): mean_loss_iteration_in_epoch = 0.048388360000000005\n",
            "__verbose__:  Network > fit > (epoch) = (45): mean_loss_iteration_in_epoch = 0.04658176000000001\n",
            "__verbose__:  Network > fit > (epoch) = (46): mean_loss_iteration_in_epoch = 0.044846880000000006\n",
            "__verbose__:  Network > fit > (epoch) = (47): mean_loss_iteration_in_epoch = -0.004657269999999996\n",
            "__verbose__:  Network > fit > (epoch) = (48): mean_loss_iteration_in_epoch = 0.04181154\n",
            "__verbose__:  Network > fit > (epoch) = (49): mean_loss_iteration_in_epoch = 0.040257930000000004\n",
            "__verbose__:  Network > fit > (epoch) = (50): mean_loss_iteration_in_epoch = 0.03876381000000001\n",
            "__verbose__:  Network > fit > (epoch) = (51): mean_loss_iteration_in_epoch = 0.037328389999999996\n",
            "__verbose__:  Network > fit > (epoch) = (52): mean_loss_iteration_in_epoch = 0.03594915\n",
            "__verbose__:  Network > fit > (epoch) = (53): mean_loss_iteration_in_epoch = 0.03462362\n",
            "__verbose__:  Network > fit > (epoch) = (54): mean_loss_iteration_in_epoch = 0.03334955\n",
            "__verbose__:  Network > fit > (epoch) = (55): mean_loss_iteration_in_epoch = 0.03212479\n",
            "__verbose__:  Network > fit > (epoch) = (56): mean_loss_iteration_in_epoch = 0.03094724\n",
            "__verbose__:  Network > fit > (epoch) = (57): mean_loss_iteration_in_epoch = 0.029815020000000005\n",
            "__verbose__:  Network > fit > (epoch) = (58): mean_loss_iteration_in_epoch = 0.028726160000000004\n",
            "__verbose__:  Network > fit > (epoch) = (59): mean_loss_iteration_in_epoch = 0.02767887\n",
            "__verbose__:  Network > fit > (epoch) = (60): mean_loss_iteration_in_epoch = 0.026671350000000003\n",
            "__verbose__:  Network > fit > (epoch) = (61): mean_loss_iteration_in_epoch = 0.02570215\n",
            "__verbose__:  Network > fit > (epoch) = (62): mean_loss_iteration_in_epoch = 0.024769529999999994\n",
            "__verbose__:  Network > fit > (epoch) = (63): mean_loss_iteration_in_epoch = 0.02387215000000001\n",
            "__verbose__:  Network > fit > (epoch) = (64): mean_loss_iteration_in_epoch = 0.02300855\n",
            "__verbose__:  Network > fit > (epoch) = (65): mean_loss_iteration_in_epoch = 0.022177310000000002\n",
            "__verbose__:  Network > fit > (epoch) = (66): mean_loss_iteration_in_epoch = 0.021377169999999997\n",
            "__verbose__:  Network > fit > (epoch) = (67): mean_loss_iteration_in_epoch = 0.020606879999999998\n",
            "__verbose__:  Network > fit > (epoch) = (68): mean_loss_iteration_in_epoch = 0.01986531\n",
            "__verbose__:  Network > fit > (epoch) = (69): mean_loss_iteration_in_epoch = 0.01915124\n",
            "__verbose__:  Network > fit > (epoch) = (70): mean_loss_iteration_in_epoch = 0.018463649999999998\n",
            "__verbose__:  Network > fit > (epoch) = (71): mean_loss_iteration_in_epoch = 0.017801519999999998\n",
            "__verbose__:  Network > fit > (epoch) = (72): mean_loss_iteration_in_epoch = 0.01716385\n",
            "__verbose__:  Network > fit > (epoch) = (73): mean_loss_iteration_in_epoch = 0.0165496\n",
            "__verbose__:  Network > fit > (epoch) = (74): mean_loss_iteration_in_epoch = 0.01595794\n",
            "__verbose__:  Network > fit > (epoch) = (75): mean_loss_iteration_in_epoch = 0.01538801\n",
            "__verbose__:  Network > fit > (epoch) = (76): mean_loss_iteration_in_epoch = 0.014838929999999998\n",
            "__verbose__:  Network > fit > (epoch) = (77): mean_loss_iteration_in_epoch = 0.014309919999999999\n",
            "__verbose__:  Network > fit > (epoch) = (78): mean_loss_iteration_in_epoch = 0.01380028\n",
            "__verbose__:  Network > fit > (epoch) = (79): mean_loss_iteration_in_epoch = 0.013309130000000002\n",
            "__verbose__:  Network > fit > (epoch) = (80): mean_loss_iteration_in_epoch = 0.01283586\n",
            "__verbose__:  Network > fit > (epoch) = (81): mean_loss_iteration_in_epoch = 0.012379740000000002\n",
            "__verbose__:  Network > fit > (epoch) = (82): mean_loss_iteration_in_epoch = 0.011940160000000002\n",
            "__verbose__:  Network > fit > (epoch) = (83): mean_loss_iteration_in_epoch = 0.01151653\n",
            "__verbose__:  Network > fit > (epoch) = (84): mean_loss_iteration_in_epoch = 0.01110819\n",
            "__verbose__:  Network > fit > (epoch) = (85): mean_loss_iteration_in_epoch = 0.01071469\n",
            "__verbose__:  Network > fit > (epoch) = (86): mean_loss_iteration_in_epoch = 0.010335180000000005\n",
            "__verbose__:  Network > fit > (epoch) = (87): mean_loss_iteration_in_epoch = 0.00996943\n",
            "__verbose__:  Network > fit > (epoch) = (88): mean_loss_iteration_in_epoch = 0.00961689\n",
            "__verbose__:  Network > fit > (epoch) = (89): mean_loss_iteration_in_epoch = 0.00927698\n",
            "__verbose__:  Network > fit > (epoch) = (90): mean_loss_iteration_in_epoch = 0.008949209999999999\n",
            "__verbose__:  Network > fit > (epoch) = (91): mean_loss_iteration_in_epoch = 0.00863323\n",
            "__verbose__:  Network > fit > (epoch) = (92): mean_loss_iteration_in_epoch = 0.008328589999999999\n",
            "__verbose__:  Network > fit > (epoch) = (93): mean_loss_iteration_in_epoch = 0.00803482\n",
            "__verbose__:  Network > fit > (epoch) = (94): mean_loss_iteration_in_epoch = 0.007751459999999999\n",
            "__verbose__:  Network > fit > (epoch) = (95): mean_loss_iteration_in_epoch = 0.00747836\n",
            "__verbose__:  Network > fit > (epoch) = (96): mean_loss_iteration_in_epoch = 0.0072149399999999995\n",
            "__verbose__:  Network > fit > (epoch) = (97): mean_loss_iteration_in_epoch = 0.00696087\n",
            "__verbose__:  Network > fit > (epoch) = (98): mean_loss_iteration_in_epoch = 0.006715899999999998\n",
            "__verbose__:  Network > fit > (epoch) = (99): mean_loss_iteration_in_epoch = 0.0064795899999999995\n"
          ]
        }
      ]
    },
    {
      "cell_type": "markdown",
      "source": [
        "- test"
      ],
      "metadata": {
        "id": "GoLrWVJJiyGA"
      }
    },
    {
      "cell_type": "code",
      "source": [
        "z = net.predict(x_in)\n",
        "print(z)\n",
        "preds = 1 / (1 + np.exp(-z))\n",
        "print(preds)\n",
        "preds = np.where(preds >= 0.5, 1, 0)"
      ],
      "metadata": {
        "colab": {
          "base_uri": "https://localhost:8080/"
        },
        "id": "6AyG7-GPcTDo",
        "outputId": "cf5477d8-a4cf-43e6-8bfe-f63491991dfc"
      },
      "execution_count": 305,
      "outputs": [
        {
          "output_type": "stream",
          "name": "stdout",
          "text": [
            "[-4.20283808 16.41377455 27.4929704  18.84418196 18.76462732 -4.20283808\n",
            " 16.3317128  14.25104955 -4.20283808 -4.20283808 24.75680964 -4.20283808\n",
            " -4.20283808 16.87622813 -4.20283808 21.06855302 -4.20283808 -4.20283808\n",
            " 20.35581506 18.4127687  -4.20283808 19.88144307 27.4142298  -4.20283808\n",
            " -4.20283808 -4.20283808 18.70016415 18.5093435  16.88187014 23.46242254\n",
            " -4.20283808 22.49909814 21.75553423 -4.20283808 -4.20283808 -4.20283808\n",
            " -4.20283808 15.05600846 32.61746909 18.01127398 22.09554943 -4.20283808\n",
            " -4.20283808 21.42768734 29.23716213 22.11527684 -4.20283808 25.46985942\n",
            " 16.9270383  16.84234927 -4.20283808 31.0625105  -4.20283808 -4.20283808\n",
            " 29.80457204 -4.20283808 14.02588382 -4.20283808 24.50439349 -4.20283808\n",
            " -4.20283808 -4.20283808 25.69098678 -4.20283808 32.14938527 -4.20283808\n",
            " 21.97423244 12.04709489 18.13702771 -4.20283808 22.0201462  -4.20283808\n",
            " -4.20283808 -4.20283808 17.77886099 20.31200292 23.50129931 -4.20283808\n",
            " -4.20283808 22.48644302 22.51528988 19.91359815 27.88801238 19.29608642\n",
            " -4.20283808 18.79251301 27.28498107 16.38925555 17.81923432 19.19775501\n",
            " -4.20283808 21.95242462 20.20050252 29.83512888 -4.20283808 -4.20283808\n",
            " -4.20283808 -4.20283808 18.18901828 16.60230708]\n",
            "[0.01473278 0.99999993 1.         0.99999999 0.99999999 0.01473278\n",
            " 0.99999992 0.99999935 0.01473278 0.01473278 1.         0.01473278\n",
            " 0.01473278 0.99999995 0.01473278 1.         0.01473278 0.01473278\n",
            " 1.         0.99999999 0.01473278 1.         1.         0.01473278\n",
            " 0.01473278 0.01473278 0.99999999 0.99999999 0.99999995 1.\n",
            " 0.01473278 1.         1.         0.01473278 0.01473278 0.01473278\n",
            " 0.01473278 0.99999971 1.         0.99999998 1.         0.01473278\n",
            " 0.01473278 1.         1.         1.         0.01473278 1.\n",
            " 0.99999996 0.99999995 0.01473278 1.         0.01473278 0.01473278\n",
            " 1.         0.01473278 0.99999919 0.01473278 1.         0.01473278\n",
            " 0.01473278 0.01473278 1.         0.01473278 1.         0.01473278\n",
            " 1.         0.99999414 0.99999999 0.01473278 1.         0.01473278\n",
            " 0.01473278 0.01473278 0.99999998 1.         1.         0.01473278\n",
            " 0.01473278 1.         1.         1.         1.         1.\n",
            " 0.01473278 0.99999999 1.         0.99999992 0.99999998 1.\n",
            " 0.01473278 1.         1.         1.         0.01473278 0.01473278\n",
            " 0.01473278 0.01473278 0.99999999 0.99999994]\n"
          ]
        }
      ]
    },
    {
      "cell_type": "code",
      "source": [
        "print(\"accuray after train: \", round(np.sum(preds == y_in) / preds.shape[0], 6))"
      ],
      "metadata": {
        "colab": {
          "base_uri": "https://localhost:8080/"
        },
        "id": "KXyQQmfei90u",
        "outputId": "8275a4c4-f416-4643-e367-b65baad02f1e"
      },
      "execution_count": 306,
      "outputs": [
        {
          "output_type": "stream",
          "name": "stdout",
          "text": [
            "accuray after train:  1.0\n"
          ]
        }
      ]
    },
    {
      "cell_type": "markdown",
      "source": [
        "- test data_out"
      ],
      "metadata": {
        "id": "NZa0yPv9jBjp"
      }
    },
    {
      "cell_type": "code",
      "source": [
        "z = net.predict(x_out)\n",
        "# print(z)\n",
        "preds = 1 / (1 + np.exp(-z))\n",
        "# print(preds)\n",
        "preds = np.where(preds >= 0.5, 1, 0)\n",
        "print(\"accuray of data_out: \", round(np.sum(preds == y_out) / preds.shape[0], 6))"
      ],
      "metadata": {
        "colab": {
          "base_uri": "https://localhost:8080/"
        },
        "id": "p9P325VCg-yo",
        "outputId": "948ca2e4-1eac-425b-d683-759e392f0d9f"
      },
      "execution_count": 314,
      "outputs": [
        {
          "output_type": "stream",
          "name": "stdout",
          "text": [
            "accuray of data_out:  1.0\n"
          ]
        }
      ]
    },
    {
      "cell_type": "markdown",
      "source": [
        "- observe"
      ],
      "metadata": {
        "id": "AnSgKDrGjJJL"
      }
    },
    {
      "cell_type": "code",
      "source": [
        "plt.plot(net.mean_loss[num_epoch//2:], label = 'mean_loss_iteration_in_epoch')\n",
        "plt.title('Loss Progress')\n",
        "plt.xlabel('epoch (from {}+)'.format(num_epoch//2))\n",
        "plt.ylabel('mean_loss')\n",
        "plt.legend()\n",
        "plt.grid()"
      ],
      "metadata": {
        "colab": {
          "base_uri": "https://localhost:8080/",
          "height": 472
        },
        "id": "t21LRQh2iaZP",
        "outputId": "55c1467f-444d-4e68-c447-a1266aad6b63"
      },
      "execution_count": 315,
      "outputs": [
        {
          "output_type": "display_data",
          "data": {
            "text/plain": [
              "<Figure size 640x480 with 1 Axes>"
            ],
            "image/png": "[encoded data removed]"
          },
          "metadata": {}
        }
      ]
    },
    {
      "cell_type": "markdown",
      "source": [
        "- observer prediction of network  "
      ],
      "metadata": {
        "id": "vgozHvfOjcLC"
      }
    },
    {
      "cell_type": "code",
      "source": [
        "net.getOutputLayer(x_in[0], len(net.network)-2, noisy = True)"
      ],
      "metadata": {
        "colab": {
          "base_uri": "https://localhost:8080/"
        },
        "id": "uY5NN7jFjaOi",
        "outputId": "9c67dbe8-a04f-439c-f1fd-7f5716c407f6"
      },
      "execution_count": 309,
      "outputs": [
        {
          "output_type": "stream",
          "name": "stdout",
          "text": [
            "__verbose__:  Network > getOutputLayer > (layer) = (0): \n",
            "Hash(input):  ((28, 28), (106.7567328088, 31095))\n",
            "Hash(params):  ((7, 7), (0.4377102288, 1.2329535528))\n",
            "Hash(output):  (3025.0760958693, 36927.7814881498)\n",
            "__verbose__:  Network > getOutputLayer > (layer) = (1): \n",
            "Hash(input):  ((22, 22), (3025.0760958693, 36927.7814881498))\n",
            "Hash(params):  ((0,), (0.0, 0.0))\n",
            "Hash(output):  (2938.6759025859, 43040.3962068698)\n",
            "__verbose__:  Network > getOutputLayer > (layer) = (2): \n",
            "Hash(input):  ((22, 22), (2938.6759025859, 43040.3962068698))\n",
            "Hash(params):  ((3, 3), (0.2960572253, 0.8771007973))\n",
            "Hash(output):  (2349.4517387963, 34883.1653981154)\n",
            "__verbose__:  Network > getOutputLayer > (layer) = (3): \n",
            "Hash(input):  ((20, 20), (2349.4517387963, 34883.1653981154))\n",
            "Hash(params):  ((0,), (0.0, 0.0))\n",
            "Hash(output):  (2349.4517387963, 34883.1653981154)\n",
            "__verbose__:  Network > getOutputLayer > (layer) = (4): \n",
            "Hash(input):  ((20, 20), (2349.4517387963, 34883.1653981154))\n",
            "Hash(params):  ((0,), (0.0, 0.0))\n",
            "Hash(output):  (1394.7408116269, 11065.2181500512)\n",
            "__verbose__:  Network > getOutputLayer > (layer) = (5): \n",
            "Hash(input):  ((10, 10), (1394.7408116269, 11065.2181500512))\n",
            "Hash(params):  ((0,), (0.0, 0.0))\n",
            "Hash(output):  (1394.7408116269, 11065.2181500512)\n",
            "__verbose__:  Network > getOutputLayer > (layer) = (6): \n",
            "Hash(input):  ((100, 1), (1394.7408116269, 11065.2181500512))\n",
            "Hash(params):  ((16, 101), (1.1811227337, 7.2352984017))\n",
            "Hash(output):  (705.1601581467, 1092.0329024496)\n",
            "__verbose__:  Network > getOutputLayer > (layer) = (7): \n",
            "Hash(input):  ((16, 1), (705.1601581467, 1092.0329024496))\n",
            "Hash(params):  ((0,), (0.0, 0.0))\n",
            "Hash(output):  (679.234010434, 1662.7379280808)\n",
            "__verbose__:  Network > getOutputLayer > (layer) = (8): \n",
            "Hash(input):  ((16, 1), (679.234010434, 1662.7379280808))\n",
            "Hash(params):  ((8, 17), (0.3685438365, -0.2185187824))\n",
            "Hash(output):  (154.108523413, -320.2055855638)\n",
            "__verbose__:  Network > getOutputLayer > (layer) = (9): \n",
            "Hash(input):  ((8, 1), (154.108523413, -320.2055855638))\n",
            "Hash(params):  ((0,), (0.0, 0.0))\n",
            "Hash(output):  (0.0, 0.0)\n",
            "__verbose__:  Network > getOutputLayer > (layer) = (10): \n",
            "Hash(input):  ((8, 1), (0.0, 0.0))\n",
            "Hash(params):  ((1, 9), (4.2071201491, -3.8035055264))\n",
            "Hash(output):  (4.2028380775, -4.2028380775)\n"
          ]
        },
        {
          "output_type": "execute_result",
          "data": {
            "text/plain": [
              "array([[-4.20283808]])"
            ]
          },
          "metadata": {},
          "execution_count": 309
        }
      ]
    },
    {
      "cell_type": "code",
      "source": [
        "net.getOutputLayer(x_in[1], len(net.network)-2, noisy = True)"
      ],
      "metadata": {
        "colab": {
          "base_uri": "https://localhost:8080/"
        },
        "id": "YO5qadsLbL2o",
        "outputId": "748c7056-f428-482c-8940-8bd3f7dc8225"
      },
      "execution_count": 310,
      "outputs": [
        {
          "output_type": "stream",
          "name": "stdout",
          "text": [
            "__verbose__:  Network > getOutputLayer > (layer) = (0): \n",
            "Hash(input):  ((28, 28), (73.4098086089, 17135))\n",
            "Hash(params):  ((7, 7), (0.4377102288, 1.2329535528))\n",
            "Hash(output):  (2609.21533658, 20013.1947236206)\n",
            "__verbose__:  Network > getOutputLayer > (layer) = (1): \n",
            "Hash(input):  ((22, 22), (2609.21533658, 20013.1947236206))\n",
            "Hash(params):  ((0,), (0.0, 0.0))\n",
            "Hash(output):  (2503.0961461782, 26568.7241120913)\n",
            "__verbose__:  Network > getOutputLayer > (layer) = (2): \n",
            "Hash(input):  ((22, 22), (2503.0961461782, 26568.7241120913))\n",
            "Hash(params):  ((3, 3), (0.2960572253, 0.8771007973))\n",
            "Hash(output):  (2002.49780869, 22111.671770895)\n",
            "__verbose__:  Network > getOutputLayer > (layer) = (3): \n",
            "Hash(input):  ((20, 20), (2002.49780869, 22111.671770895))\n",
            "Hash(params):  ((0,), (0.0, 0.0))\n",
            "Hash(output):  (2002.49780869, 22111.671770895)\n",
            "__verbose__:  Network > getOutputLayer > (layer) = (4): \n",
            "Hash(input):  ((20, 20), (2002.49780869, 22111.671770895))\n",
            "Hash(params):  ((0,), (0.0, 0.0))\n",
            "Hash(output):  (1210.5692019523, 7366.3874422224)\n",
            "__verbose__:  Network > getOutputLayer > (layer) = (5): \n",
            "Hash(input):  ((10, 10), (1210.5692019523, 7366.3874422224))\n",
            "Hash(params):  ((0,), (0.0, 0.0))\n",
            "Hash(output):  (1210.5692019523, 7366.3874422224)\n",
            "__verbose__:  Network > getOutputLayer > (layer) = (6): \n",
            "Hash(input):  ((100, 1), (1210.5692019523, 7366.3874422224))\n",
            "Hash(params):  ((16, 101), (1.1811227337, 7.2352984017))\n",
            "Hash(output):  (455.7049359527, 641.1747566433)\n",
            "__verbose__:  Network > getOutputLayer > (layer) = (7): \n",
            "Hash(input):  ((16, 1), (455.7049359527, 641.1747566433))\n",
            "Hash(params):  ((0,), (0.0, 0.0))\n",
            "Hash(output):  (443.6202874748, 908.6843076533)\n",
            "__verbose__:  Network > getOutputLayer > (layer) = (8): \n",
            "Hash(input):  ((16, 1), (443.6202874748, 908.6843076533))\n",
            "Hash(params):  ((8, 17), (0.3685438365, -0.2185187824))\n",
            "Hash(output):  (109.9462447196, 198.6883827604)\n",
            "__verbose__:  Network > getOutputLayer > (layer) = (9): \n",
            "Hash(input):  ((8, 1), (109.9462447196, 198.6883827604))\n",
            "Hash(params):  ((0,), (0.0, 0.0))\n",
            "Hash(output):  (109.5598050113, 215.6201718589)\n",
            "__verbose__:  Network > getOutputLayer > (layer) = (10): \n",
            "Hash(input):  ((8, 1), (109.5598050113, 215.6201718589))\n",
            "Hash(params):  ((1, 9), (4.2071201491, -3.8035055264))\n",
            "Hash(output):  (16.4137745547, 16.4137745547)\n"
          ]
        },
        {
          "output_type": "execute_result",
          "data": {
            "text/plain": [
              "array([[16.41377455]])"
            ]
          },
          "metadata": {},
          "execution_count": 310
        }
      ]
    },
    {
      "cell_type": "markdown",
      "source": [
        "#sprint6: using Keras"
      ],
      "metadata": {
        "id": "Iw9pnarzO0C0"
      }
    },
    {
      "cell_type": "code",
      "source": [
        "import keras\n",
        "model = keras.Sequential()\n",
        "\n",
        "model.add(keras.layers.Conv2D(1, (7, 7), activation='relu', input_shape=(28,28,1)))\n",
        "model.add(keras.layers.Conv2D(1, (3, 3), activation='relu'))\n",
        "\n",
        "model.add(keras.layers.MaxPooling2D(pool_size=(2,2)))\n",
        "\n",
        "model.add(keras.layers.Flatten())\n",
        "\n",
        "model.add(keras.layers.Dense(16, activation='relu'))\n",
        "model.add(keras.layers.Dense(8, activation='relu'))\n",
        "\n",
        "model.add(keras.layers.Dense(1, activation='sigmoid'))\n",
        "\n",
        "\n",
        "model.compile(\n",
        "  loss=keras.losses.BinaryCrossentropy(),\n",
        "  optimizer=keras.optimizers.Adam(learning_rate = 1e-3),\n",
        "  metrics=['accuracy'])\n",
        "\n",
        "\n",
        "num_epoch = 100\n",
        "H = model.fit(x_in, y_in, batch_size=1, epochs=num_epoch, verbose=1)\n",
        "\n",
        "\n",
        "fig = plt.figure()\n",
        "\n",
        "plt.plot( H.history['loss'], label='training loss')\n",
        "# plt.plot(np.arange(0, num_epoch), H.history['val_loss'], label='validation loss')\n",
        "plt.plot( H.history['accuracy'], label='accuracy')\n",
        "# plt.plot(np.arange(0, num_epoch), H.history['val_accuracy'], label='validation accuracy')\n",
        "\n",
        "plt.title('Accuracy and Loss')\n",
        "plt.xlabel('Epoch')\n",
        "plt.ylabel('Loss|Accuracy')\n",
        "plt.legend()\n"
      ],
      "metadata": {
        "colab": {
          "base_uri": "https://localhost:8080/",
          "height": 1000
        },
        "id": "NNbOWXao67ab",
        "outputId": "042fe41e-938d-40b2-dc85-eca6a3dc6434"
      },
      "execution_count": 311,
      "outputs": [
        {
          "output_type": "stream",
          "name": "stdout",
          "text": [
            "Epoch 1/100\n",
            "100/100 [==============================] - 1s 4ms/step - loss: 3.0635 - accuracy: 0.9000\n",
            "Epoch 2/100\n",
            "100/100 [==============================] - 0s 4ms/step - loss: 0.0011 - accuracy: 1.0000\n",
            "Epoch 3/100\n",
            "100/100 [==============================] - 0s 4ms/step - loss: 0.0015 - accuracy: 1.0000\n",
            "Epoch 4/100\n",
            "100/100 [==============================] - 1s 6ms/step - loss: 4.2936e-05 - accuracy: 1.0000\n",
            "Epoch 5/100\n",
            "100/100 [==============================] - 1s 6ms/step - loss: 2.5550e-05 - accuracy: 1.0000\n",
            "Epoch 6/100\n",
            "100/100 [==============================] - 1s 6ms/step - loss: 1.8286e-05 - accuracy: 1.0000\n",
            "Epoch 7/100\n",
            "100/100 [==============================] - 1s 6ms/step - loss: 1.4454e-05 - accuracy: 1.0000\n",
            "Epoch 8/100\n",
            "100/100 [==============================] - 1s 6ms/step - loss: 1.1799e-05 - accuracy: 1.0000\n",
            "Epoch 9/100\n",
            "100/100 [==============================] - 1s 6ms/step - loss: 9.9977e-06 - accuracy: 1.0000\n",
            "Epoch 10/100\n",
            "100/100 [==============================] - 1s 5ms/step - loss: 8.6803e-06 - accuracy: 1.0000\n",
            "Epoch 11/100\n",
            "100/100 [==============================] - 0s 5ms/step - loss: 7.6533e-06 - accuracy: 1.0000\n",
            "Epoch 12/100\n",
            "100/100 [==============================] - 0s 3ms/step - loss: 6.8803e-06 - accuracy: 1.0000\n",
            "Epoch 13/100\n",
            "100/100 [==============================] - 0s 3ms/step - loss: 6.1975e-06 - accuracy: 1.0000\n",
            "Epoch 14/100\n",
            "100/100 [==============================] - 0s 4ms/step - loss: 5.6450e-06 - accuracy: 1.0000\n",
            "Epoch 15/100\n",
            "100/100 [==============================] - 0s 3ms/step - loss: 5.1799e-06 - accuracy: 1.0000\n",
            "Epoch 16/100\n",
            "100/100 [==============================] - 0s 4ms/step - loss: 4.7815e-06 - accuracy: 1.0000\n",
            "Epoch 17/100\n",
            "100/100 [==============================] - 0s 3ms/step - loss: 4.4396e-06 - accuracy: 1.0000\n",
            "Epoch 18/100\n",
            "100/100 [==============================] - 0s 4ms/step - loss: 4.1426e-06 - accuracy: 1.0000\n",
            "Epoch 19/100\n",
            "100/100 [==============================] - 0s 3ms/step - loss: 3.8603e-06 - accuracy: 1.0000\n",
            "Epoch 20/100\n",
            "100/100 [==============================] - 0s 3ms/step - loss: 3.6205e-06 - accuracy: 1.0000\n",
            "Epoch 21/100\n",
            "100/100 [==============================] - 0s 3ms/step - loss: 3.4047e-06 - accuracy: 1.0000\n",
            "Epoch 22/100\n",
            "100/100 [==============================] - 0s 3ms/step - loss: 3.1998e-06 - accuracy: 1.0000\n",
            "Epoch 23/100\n",
            "100/100 [==============================] - 0s 3ms/step - loss: 3.0108e-06 - accuracy: 1.0000\n",
            "Epoch 24/100\n",
            "100/100 [==============================] - 0s 3ms/step - loss: 2.8460e-06 - accuracy: 1.0000\n",
            "Epoch 25/100\n",
            "100/100 [==============================] - 0s 3ms/step - loss: 2.6846e-06 - accuracy: 1.0000\n",
            "Epoch 26/100\n",
            "100/100 [==============================] - 0s 3ms/step - loss: 2.5489e-06 - accuracy: 1.0000\n",
            "Epoch 27/100\n",
            "100/100 [==============================] - 0s 4ms/step - loss: 2.4094e-06 - accuracy: 1.0000\n",
            "Epoch 28/100\n",
            "100/100 [==============================] - 0s 3ms/step - loss: 2.2897e-06 - accuracy: 1.0000\n",
            "Epoch 29/100\n",
            "100/100 [==============================] - 0s 3ms/step - loss: 2.1694e-06 - accuracy: 1.0000\n",
            "Epoch 30/100\n",
            "100/100 [==============================] - 0s 3ms/step - loss: 2.0637e-06 - accuracy: 1.0000\n",
            "Epoch 31/100\n",
            "100/100 [==============================] - 0s 3ms/step - loss: 1.9616e-06 - accuracy: 1.0000\n",
            "Epoch 32/100\n",
            "100/100 [==============================] - 0s 3ms/step - loss: 1.8699e-06 - accuracy: 1.0000\n",
            "Epoch 33/100\n",
            "100/100 [==============================] - 0s 3ms/step - loss: 1.7799e-06 - accuracy: 1.0000\n",
            "Epoch 34/100\n",
            "100/100 [==============================] - 0s 3ms/step - loss: 1.6934e-06 - accuracy: 1.0000\n",
            "Epoch 35/100\n",
            "100/100 [==============================] - 0s 3ms/step - loss: 1.6152e-06 - accuracy: 1.0000\n",
            "Epoch 36/100\n",
            "100/100 [==============================] - 0s 3ms/step - loss: 1.5430e-06 - accuracy: 1.0000\n",
            "Epoch 37/100\n",
            "100/100 [==============================] - 0s 3ms/step - loss: 1.4699e-06 - accuracy: 1.0000\n",
            "Epoch 38/100\n",
            "100/100 [==============================] - 0s 3ms/step - loss: 1.3968e-06 - accuracy: 1.0000\n",
            "Epoch 39/100\n",
            "100/100 [==============================] - 0s 4ms/step - loss: 1.3342e-06 - accuracy: 1.0000\n",
            "Epoch 40/100\n",
            "100/100 [==============================] - 0s 5ms/step - loss: 1.2715e-06 - accuracy: 1.0000\n",
            "Epoch 41/100\n",
            "100/100 [==============================] - 1s 5ms/step - loss: 1.2131e-06 - accuracy: 1.0000\n",
            "Epoch 42/100\n",
            "100/100 [==============================] - 1s 5ms/step - loss: 1.1583e-06 - accuracy: 1.0000\n",
            "Epoch 43/100\n",
            "100/100 [==============================] - 1s 5ms/step - loss: 1.1089e-06 - accuracy: 1.0000\n",
            "Epoch 44/100\n",
            "100/100 [==============================] - 1s 5ms/step - loss: 1.0562e-06 - accuracy: 1.0000\n",
            "Epoch 45/100\n",
            "100/100 [==============================] - 1s 5ms/step - loss: 1.0103e-06 - accuracy: 1.0000\n",
            "Epoch 46/100\n",
            "100/100 [==============================] - 0s 4ms/step - loss: 9.6322e-07 - accuracy: 1.0000\n",
            "Epoch 47/100\n",
            "100/100 [==============================] - 1s 6ms/step - loss: 9.2027e-07 - accuracy: 1.0000\n",
            "Epoch 48/100\n",
            "100/100 [==============================] - 0s 5ms/step - loss: 8.7983e-07 - accuracy: 1.0000\n",
            "Epoch 49/100\n",
            "100/100 [==============================] - 0s 4ms/step - loss: 8.3985e-07 - accuracy: 1.0000\n",
            "Epoch 50/100\n",
            "100/100 [==============================] - 0s 3ms/step - loss: 8.0844e-07 - accuracy: 1.0000\n",
            "Epoch 51/100\n",
            "100/100 [==============================] - 0s 3ms/step - loss: 7.6764e-07 - accuracy: 1.0000\n",
            "Epoch 52/100\n",
            "100/100 [==============================] - 0s 4ms/step - loss: 7.3340e-07 - accuracy: 1.0000\n",
            "Epoch 53/100\n",
            "100/100 [==============================] - 0s 3ms/step - loss: 7.0136e-07 - accuracy: 1.0000\n",
            "Epoch 54/100\n",
            "100/100 [==============================] - 0s 3ms/step - loss: 6.7138e-07 - accuracy: 1.0000\n",
            "Epoch 55/100\n",
            "100/100 [==============================] - 0s 4ms/step - loss: 6.4119e-07 - accuracy: 1.0000\n",
            "Epoch 56/100\n",
            "100/100 [==============================] - 0s 4ms/step - loss: 6.1502e-07 - accuracy: 1.0000\n",
            "Epoch 57/100\n",
            "100/100 [==============================] - 0s 4ms/step - loss: 5.8561e-07 - accuracy: 1.0000\n",
            "Epoch 58/100\n",
            "100/100 [==============================] - 0s 4ms/step - loss: 5.5977e-07 - accuracy: 1.0000\n",
            "Epoch 59/100\n",
            "100/100 [==============================] - 0s 4ms/step - loss: 5.3519e-07 - accuracy: 1.0000\n",
            "Epoch 60/100\n",
            "100/100 [==============================] - 0s 4ms/step - loss: 5.0981e-07 - accuracy: 1.0000\n",
            "Epoch 61/100\n",
            "100/100 [==============================] - 0s 3ms/step - loss: 4.8740e-07 - accuracy: 1.0000\n",
            "Epoch 62/100\n",
            "100/100 [==============================] - 0s 4ms/step - loss: 4.6707e-07 - accuracy: 1.0000\n",
            "Epoch 63/100\n",
            "100/100 [==============================] - 0s 4ms/step - loss: 4.4492e-07 - accuracy: 1.0000\n",
            "Epoch 64/100\n",
            "100/100 [==============================] - 0s 3ms/step - loss: 4.2610e-07 - accuracy: 1.0000\n",
            "Epoch 65/100\n",
            "100/100 [==============================] - 0s 4ms/step - loss: 4.0759e-07 - accuracy: 1.0000\n",
            "Epoch 66/100\n",
            "100/100 [==============================] - 0s 4ms/step - loss: 3.8900e-07 - accuracy: 1.0000\n",
            "Epoch 67/100\n",
            "100/100 [==============================] - 0s 4ms/step - loss: 3.7138e-07 - accuracy: 1.0000\n",
            "Epoch 68/100\n",
            "100/100 [==============================] - 0s 4ms/step - loss: 3.5450e-07 - accuracy: 1.0000\n",
            "Epoch 69/100\n",
            "100/100 [==============================] - 0s 4ms/step - loss: 3.3910e-07 - accuracy: 1.0000\n",
            "Epoch 70/100\n",
            "100/100 [==============================] - 0s 4ms/step - loss: 3.2394e-07 - accuracy: 1.0000\n",
            "Epoch 71/100\n",
            "100/100 [==============================] - 0s 3ms/step - loss: 3.0996e-07 - accuracy: 1.0000\n",
            "Epoch 72/100\n",
            "100/100 [==============================] - 0s 4ms/step - loss: 2.9601e-07 - accuracy: 1.0000\n",
            "Epoch 73/100\n",
            "100/100 [==============================] - 0s 4ms/step - loss: 2.8345e-07 - accuracy: 1.0000\n",
            "Epoch 74/100\n",
            "100/100 [==============================] - 0s 3ms/step - loss: 2.7062e-07 - accuracy: 1.0000\n",
            "Epoch 75/100\n",
            "100/100 [==============================] - 1s 5ms/step - loss: 2.5831e-07 - accuracy: 1.0000\n",
            "Epoch 76/100\n",
            "100/100 [==============================] - 1s 6ms/step - loss: 2.4748e-07 - accuracy: 1.0000\n",
            "Epoch 77/100\n",
            "100/100 [==============================] - 1s 6ms/step - loss: 2.3569e-07 - accuracy: 1.0000\n",
            "Epoch 78/100\n",
            "100/100 [==============================] - 1s 6ms/step - loss: 2.2601e-07 - accuracy: 1.0000\n",
            "Epoch 79/100\n",
            "100/100 [==============================] - 1s 6ms/step - loss: 2.1531e-07 - accuracy: 1.0000\n",
            "Epoch 80/100\n",
            "100/100 [==============================] - 1s 6ms/step - loss: 2.0559e-07 - accuracy: 1.0000\n",
            "Epoch 81/100\n",
            "100/100 [==============================] - 1s 6ms/step - loss: 1.9701e-07 - accuracy: 1.0000\n",
            "Epoch 82/100\n",
            "100/100 [==============================] - 1s 5ms/step - loss: 1.8803e-07 - accuracy: 1.0000\n",
            "Epoch 83/100\n",
            "100/100 [==============================] - 0s 4ms/step - loss: 1.7989e-07 - accuracy: 1.0000\n",
            "Epoch 84/100\n",
            "100/100 [==============================] - 0s 4ms/step - loss: 1.7101e-07 - accuracy: 1.0000\n",
            "Epoch 85/100\n",
            "100/100 [==============================] - 0s 4ms/step - loss: 1.6338e-07 - accuracy: 1.0000\n",
            "Epoch 86/100\n",
            "100/100 [==============================] - 0s 4ms/step - loss: 1.5578e-07 - accuracy: 1.0000\n",
            "Epoch 87/100\n",
            "100/100 [==============================] - 0s 4ms/step - loss: 1.4881e-07 - accuracy: 1.0000\n",
            "Epoch 88/100\n",
            "100/100 [==============================] - 0s 4ms/step - loss: 1.4206e-07 - accuracy: 1.0000\n",
            "Epoch 89/100\n",
            "100/100 [==============================] - 0s 4ms/step - loss: 1.3554e-07 - accuracy: 1.0000\n",
            "Epoch 90/100\n",
            "100/100 [==============================] - 0s 4ms/step - loss: 1.2937e-07 - accuracy: 1.0000\n",
            "Epoch 91/100\n",
            "100/100 [==============================] - 0s 3ms/step - loss: 1.2391e-07 - accuracy: 1.0000\n",
            "Epoch 92/100\n",
            "100/100 [==============================] - 0s 4ms/step - loss: 1.1799e-07 - accuracy: 1.0000\n",
            "Epoch 93/100\n",
            "100/100 [==============================] - 0s 3ms/step - loss: 1.1273e-07 - accuracy: 1.0000\n",
            "Epoch 94/100\n",
            "100/100 [==============================] - 0s 3ms/step - loss: 1.0781e-07 - accuracy: 1.0000\n",
            "Epoch 95/100\n",
            "100/100 [==============================] - 0s 4ms/step - loss: 1.0290e-07 - accuracy: 1.0000\n",
            "Epoch 96/100\n",
            "100/100 [==============================] - 0s 3ms/step - loss: 9.8778e-08 - accuracy: 1.0000\n",
            "Epoch 97/100\n",
            "100/100 [==============================] - 0s 3ms/step - loss: 9.3956e-08 - accuracy: 1.0000\n",
            "Epoch 98/100\n",
            "100/100 [==============================] - 0s 4ms/step - loss: 8.9716e-08 - accuracy: 1.0000\n",
            "Epoch 99/100\n",
            "100/100 [==============================] - 0s 3ms/step - loss: 8.5593e-08 - accuracy: 1.0000\n",
            "Epoch 100/100\n",
            "100/100 [==============================] - 0s 4ms/step - loss: 8.1875e-08 - accuracy: 1.0000\n"
          ]
        },
        {
          "output_type": "execute_result",
          "data": {
            "text/plain": [
              "<matplotlib.legend.Legend at 0x7ed564b68640>"
            ]
          },
          "metadata": {},
          "execution_count": 311
        },
        {
          "output_type": "display_data",
          "data": {
            "text/plain": [
              "<Figure size 640x480 with 1 Axes>"
            ],
            "image/png": "[encoded data removed]"
          },
          "metadata": {}
        }
      ]
    },
    {
      "cell_type": "code",
      "source": [
        "model.evaluate(x_out, y_out, verbose = 1)"
      ],
      "metadata": {
        "colab": {
          "base_uri": "https://localhost:8080/"
        },
        "id": "AjVTfKgp2cl5",
        "outputId": "21c1a87f-8ddc-4920-bc4a-1a71f88ca43c"
      },
      "execution_count": 312,
      "outputs": [
        {
          "output_type": "stream",
          "name": "stdout",
          "text": [
            "4/4 [==============================] - 0s 9ms/step - loss: 1.1343e-04 - accuracy: 1.0000\n"
          ]
        },
        {
          "output_type": "execute_result",
          "data": {
            "text/plain": [
              "[0.00011343040387146175, 1.0]"
            ]
          },
          "metadata": {},
          "execution_count": 312
        }
      ]
    },
    {
      "cell_type": "markdown",
      "source": [
        "# end"
      ],
      "metadata": {
        "id": "Tq39B1-VHXl0"
      }
    }
  ],
  "metadata": {
    "kernelspec": {
      "display_name": "Python 3",
      "name": "python3"
    },
    "language_info": {
      "codemirror_mode": {
        "name": "ipython",
        "version": 3
      },
      "file_extension": ".py",
      "mimetype": "text/x-python",
      "name": "python",
      "nbconvert_exporter": "python",
      "pygments_lexer": "ipython3",
      "version": "3.11.3"
    },
    "colab": {
      "provenance": [],
      "toc_visible": true,
      "gpuType": "T4"
    },
    "accelerator": "GPU"
  },
  "nbformat": 4,
  "nbformat_minor": 0
}